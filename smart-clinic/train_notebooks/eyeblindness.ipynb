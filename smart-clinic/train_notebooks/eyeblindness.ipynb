{
  "nbformat": 4,
  "nbformat_minor": 0,
  "metadata": {
    "kernelspec": {
      "display_name": "Python 3",
      "language": "python",
      "name": "python3"
    },
    "language_info": {
      "codemirror_mode": {
        "name": "ipython",
        "version": 3
      },
      "file_extension": ".py",
      "mimetype": "text/x-python",
      "name": "python",
      "nbconvert_exporter": "python",
      "pygments_lexer": "ipython3",
      "version": "3.7.6"
    },
    "papermill": {
      "duration": 10529.051145,
      "end_time": "2020-12-26T14:47:04.976967",
      "environment_variables": {},
      "exception": null,
      "input_path": "__notebook__.ipynb",
      "output_path": "__notebook__.ipynb",
      "parameters": {},
      "start_time": "2020-12-26T11:51:35.925822",
      "version": "2.1.0"
    },
    "widgets": {
      "application/vnd.jupyter.widget-state+json": {}
    },
    "colab": {
      "name": "eyeblindness.ipynb.txt",
      "provenance": []
    }
  },
  "cells": [
    {
      "cell_type": "code",
      "metadata": {
        "execution": {
          "iopub.execute_input": "2020-12-26T11:51:39.934559Z",
          "iopub.status.busy": "2020-12-26T11:51:39.933803Z",
          "iopub.status.idle": "2020-12-26T11:52:11.757206Z",
          "shell.execute_reply": "2020-12-26T11:52:11.756661Z"
        },
        "id": "eFqngZV8WQoC",
        "papermill": {
          "duration": 31.841801,
          "end_time": "2020-12-26T11:52:11.757324",
          "exception": false,
          "start_time": "2020-12-26T11:51:39.915523",
          "status": "completed"
        },
        "tags": [],
        "outputId": "0718f607-a1b0-40f9-e22c-d5e6554dc04e"
      },
      "source": [
        "# ==== Install Dependencies\n",
        "\n",
        "!pip install -q efficientnet-pytorch\n",
        "!pip install -q albumentations\n",
        "!pip install -q pytorch_ranger"
      ],
      "execution_count": null,
      "outputs": [
        {
          "output_type": "stream",
          "text": [
            "\u001b[33mWARNING: You are using pip version 20.3.1; however, version 20.3.3 is available.\r\n",
            "You should consider upgrading via the '/opt/conda/bin/python3.7 -m pip install --upgrade pip' command.\u001b[0m\r\n",
            "\u001b[33mWARNING: You are using pip version 20.3.1; however, version 20.3.3 is available.\r\n",
            "You should consider upgrading via the '/opt/conda/bin/python3.7 -m pip install --upgrade pip' command.\u001b[0m\r\n",
            "\u001b[33mWARNING: You are using pip version 20.3.1; however, version 20.3.3 is available.\r\n",
            "You should consider upgrading via the '/opt/conda/bin/python3.7 -m pip install --upgrade pip' command.\u001b[0m\r\n",
            "\u001b[33mWARNING: You are using pip version 20.3.1; however, version 20.3.3 is available.\r\n",
            "You should consider upgrading via the '/opt/conda/bin/python3.7 -m pip install --upgrade pip' command.\u001b[0m\r\n"
          ],
          "name": "stdout"
        }
      ]
    },
    {
      "cell_type": "code",
      "metadata": {
        "execution": {
          "iopub.execute_input": "2020-12-26T11:52:11.783603Z",
          "iopub.status.busy": "2020-12-26T11:52:11.782799Z",
          "iopub.status.idle": "2020-12-26T11:52:14.976019Z",
          "shell.execute_reply": "2020-12-26T11:52:14.974941Z"
        },
        "id": "zBkoZFfoV9Ql",
        "papermill": {
          "duration": 3.210088,
          "end_time": "2020-12-26T11:52:14.976149",
          "exception": false,
          "start_time": "2020-12-26T11:52:11.766061",
          "status": "completed"
        },
        "tags": []
      },
      "source": [
        "# ==== Import Libraries\n",
        "\n",
        "import pandas as pd\n",
        "import numpy as np\n",
        "\n",
        "import torch\n",
        "import torch.nn.functional as F\n",
        "import torch.nn as nn\n",
        "import seaborn as sns\n",
        "import random\n",
        "import os\n",
        "\n",
        "\n",
        "import albumentations as aug\n",
        "from albumentations.pytorch.transforms import ToTensor\n",
        "import matplotlib.pyplot as plt\n",
        "\n",
        "from efficientnet_pytorch import EfficientNet\n",
        "from tqdm import tqdm\n",
        "\n",
        "from sklearn.model_selection import train_test_split as tts\n",
        "from sklearn.metrics import accuracy_score\n",
        "from torch.utils.data import Dataset,DataLoader\n",
        "from torch.optim.lr_scheduler import ReduceLROnPlateau\n",
        "\n",
        "import warnings\n",
        "warnings.filterwarnings(\"ignore\") \n",
        "warnings.filterwarnings(\"ignore\", category=DeprecationWarning) \n",
        "\n",
        "from pytorch_ranger import Ranger"
      ],
      "execution_count": null,
      "outputs": []
    },
    {
      "cell_type": "markdown",
      "metadata": {
        "id": "wdNEttTexy7_"
      },
      "source": [
        "#Data Loader and Model optimizers"
      ]
    },
    {
      "cell_type": "code",
      "metadata": {
        "id": "-OpdNPwrxxtC"
      },
      "source": [
        "dataset    = Cloader(image_path,targets,resize=None,transforms=None)\r\n",
        "\"\"\" returns {'image':tensor_image,'targets':tensor_labels} \"\"\"\r\n",
        "dataloader = DataLoader(dataset,batch_size=64\r\n",
        "                                     ,shuffle=True,num_workers=4)\r\n",
        "                                     \r\n",
        "\"\"\" using next(iter(dataloader)) returns a dictionary with keys 'image'\r\n",
        " and 'targets'.\"\"\""
      ],
      "execution_count": null,
      "outputs": []
    },
    {
      "cell_type": "code",
      "metadata": {
        "id": "5HThsTA1x6Mn"
      },
      "source": [
        "es = EarlyStop(patience=7, mode=\"max\", delta=0.0001) \r\n",
        "\r\n",
        "\"\"\" Sample code \"\"\"\r\n",
        "for epoch in range(epochs):\r\n",
        "    epoch_score = Trainer.evaluate(......)\r\n",
        "    es(epoch_score , model , model_path =\"./best.pth\")\r\n",
        "    \"\"\" model_path is the location+filename to save the best model \"\"\"\r\n",
        "    if es.early_stop=True:\r\n",
        "\t    break\r\n",
        "\r\n",
        "es.reset()  \"\"\" resets the best_epoch_score, if in case training multiple\r\n",
        "                folds without creating 'es' object again and again.\"\"\""
      ],
      "execution_count": null,
      "outputs": []
    },
    {
      "cell_type": "code",
      "metadata": {
        "id": "jyMal3LVyUcP"
      },
      "source": [
        "trainer        = Trainer(model,optimizer,device,train_scheduler = None,\r\n",
        "                 val_scheduler = None,accumulation_steps=1,fp16=False,\r\n",
        "                use_mean_loss=False,checkpoint=None,save_path = \"./\")\r\n",
        "                \r\n",
        "\"\"\" Training and Evaluating \"\"\"\r\n",
        "train_loss              = trainer.train(train_dataloader)\r\n",
        "y_true ,y_pred,val_loss = trainer.evaluate(val_dataloader)\r\n",
        "\r\n",
        "\"\"\" Prediction \"\"\"\r\n",
        "y_preds                 = trainer.predict(test_dataloader)  \r\n",
        "\r\n",
        "\"\"\" In depths \"\"\"\r\n",
        "\"\"\" train_scheduler/val_scheduler : call scheduler.step() while training\r\n",
        "                                    or after validating\r\n",
        "    accumulation_step             : implements gradient accumulation \r\n",
        "                                    (default = 1)\r\n",
        "    fp16                          : mixed precision training\r\n",
        "    use_mean_loss                 : loss.mean().backward()\r\n",
        "                                    (false if loss is already meaned)\r\n",
        "    checkpoint                    : torch.load(checkpoint),loads the \r\n",
        "                                    checkpoint and resumes training.\r\n",
        "    save_path                     : location to save the last epoch \r\n",
        "                                    weights                             \"\"\"\r\n",
        "\r\n",
        "\"\"\" Having problem with non resumable training epochs? \"\"\"    \r\n",
        "trainer.saver()  \"\"\" saves the last epoch to the save_path location \"\"\"\r\n",
        "\r\n",
        "\"\"\" dataloader must be set in the same state to resume training \r\n",
        "Use [https://gist.github.com/usamec/1b3b4dcbafad2d58faa71a9633eea6a5]\r\n",
        "an implementation of ResumableRandomSampler()  \"\"\"\r\n",
        "\r\n",
        "sampler = ResumableRandomSampler(dataset)\r\n",
        "loader  = DataLoader(dataset, batch_size=64, sampler=sampler)\r\n",
        "torch.save(sampler.get_state(), \"test_samp.pth\") -- save the state\r\n",
        "sampler.set_state(torch.load(\"test_samp.pth\"))  -- load and set the state\r\n",
        "\r\n",
        "\"\"\" and tadaa , resume training 100 % :) \"\"\""
      ],
      "execution_count": null,
      "outputs": []
    },
    {
      "cell_type": "code",
      "metadata": {
        "id": "rE2_D3jkyYaG"
      },
      "source": [
        "logger   = Logger(path=\"./\")  \"\"\" save path for logger\"\"\"\r\n",
        "logger.write( message ,verbose = 1) \"\"\" verbose to print the message\"\"\"\r\n",
        "\r\n",
        "\"\"\" Helps Keep Track of Training \"\"\""
      ],
      "execution_count": null,
      "outputs": []
    },
    {
      "cell_type": "code",
      "metadata": {
        "id": "YC8m4ERhya8Z"
      },
      "source": [
        "saver    = Saver(path=\"./\" , mode = \"max\")\r\n",
        "\"\"\" saves the model, optimizer and scheduler based on score and mode \"\"\"\r\n",
        "\r\n",
        "saver.save(model,optimizer,scheduler,metric)"
      ],
      "execution_count": null,
      "outputs": []
    },
    {
      "cell_type": "code",
      "metadata": {
        "id": "8RGV9XKvyeFc"
      },
      "source": [
        "class Net(nn.Module):\r\n",
        "    def __init__(self):\r\n",
        "        super(Net, self).__init__()\r\n",
        "        self.base_model = timm.create_model('resnet18',pretrained=True,num_classes=1)\r\n",
        "    def forward(self, image, targets):\r\n",
        "        batch_size, _, _, _ = image.shape\r\n",
        "        out = self.base_model(image)\r\n",
        "        loss = nn.BCEWithLogitsLoss()(out.view(batch_size,), targets.type_as(out))\r\n",
        "        return out, loss"
      ],
      "execution_count": null,
      "outputs": []
    },
    {
      "cell_type": "code",
      "metadata": {
        "execution": {
          "iopub.execute_input": "2020-12-26T11:52:14.999828Z",
          "iopub.status.busy": "2020-12-26T11:52:14.999154Z",
          "iopub.status.idle": "2020-12-26T11:52:15.005253Z",
          "shell.execute_reply": "2020-12-26T11:52:15.004830Z"
        },
        "id": "Rm4HaTGDWE_g",
        "papermill": {
          "duration": 0.02039,
          "end_time": "2020-12-26T11:52:15.005376",
          "exception": false,
          "start_time": "2020-12-26T11:52:14.984986",
          "status": "completed"
        },
        "tags": []
      },
      "source": [
        "SEED = 42\n",
        "def seed_everything(seed):\n",
        "    random.seed(seed)\n",
        "    os.environ['PYTHONHASHSEED'] = str(seed)\n",
        "    np.random.seed(seed)\n",
        "    torch.manual_seed(seed)\n",
        "    torch.cuda.manual_seed(seed)\n",
        "    torch.backends.cudnn.deterministic = True\n",
        "    torch.backends.cudnn.benchmark = True\n",
        "\n",
        "seed_everything(SEED)"
      ],
      "execution_count": null,
      "outputs": []
    },
    {
      "cell_type": "code",
      "metadata": {
        "execution": {
          "iopub.execute_input": "2020-12-26T11:52:15.029651Z",
          "iopub.status.busy": "2020-12-26T11:52:15.029075Z",
          "iopub.status.idle": "2020-12-26T11:52:15.053828Z",
          "shell.execute_reply": "2020-12-26T11:52:15.053339Z"
        },
        "id": "l89fK9ke3VKh",
        "papermill": {
          "duration": 0.040002,
          "end_time": "2020-12-26T11:52:15.053918",
          "exception": false,
          "start_time": "2020-12-26T11:52:15.013916",
          "status": "completed"
        },
        "tags": []
      },
      "source": [
        "training_data_path = \"../input/aptos2019-blindness-detection/train_images\"\n",
        "\n",
        "df = pd.read_csv('../input/aptos2019-blindness-detection/train.csv')\n",
        "\n",
        "X_train , X_val ,Y_train , Y_val = tts(df, df.diagnosis.values, test_size=0.20\n",
        "                                       ,random_state=42,stratify=df.diagnosis.values)\n",
        "X_train       = X_train.reset_index(drop=True)\n",
        "X_val         = X_val.reset_index(drop=True)"
      ],
      "execution_count": null,
      "outputs": []
    },
    {
      "cell_type": "code",
      "metadata": {
        "execution": {
          "iopub.execute_input": "2020-12-26T11:52:15.081033Z",
          "iopub.status.busy": "2020-12-26T11:52:15.079175Z",
          "iopub.status.idle": "2020-12-26T11:52:15.081700Z",
          "shell.execute_reply": "2020-12-26T11:52:15.082113Z"
        },
        "id": "g7O7zshOwqHq",
        "papermill": {
          "duration": 0.019696,
          "end_time": "2020-12-26T11:52:15.082216",
          "exception": false,
          "start_time": "2020-12-26T11:52:15.062520",
          "status": "completed"
        },
        "tags": []
      },
      "source": [
        "# ===== Augmentations\n",
        "\n",
        "mean       = (0.485, 0.456, 0.406)\n",
        "std        = (0.229, 0.224, 0.225)\n",
        "train_tfms = aug.Compose([\n",
        "            aug.Resize(224,224),\n",
        "            aug.HorizontalFlip(p=0.5),\n",
        "            aug.RandomBrightnessContrast(0.1,0.1),\n",
        "            aug.HueSaturationValue(10,10,10),\n",
        "            aug.RGBShift(),\n",
        "            aug.ShiftScaleRotate(rotate_limit=(-45,45)),\n",
        "            aug.GaussNoise(p=0.35),\n",
        "            aug.IAASharpen(),\n",
        "            aug.Normalize(mean,std,max_pixel_value=255.0,always_apply=True),\n",
        "            ])\n",
        "\n",
        "test_tfms  = aug.Compose([\n",
        "            aug.Resize(224,224),\n",
        "            aug.Normalize(mean,std,max_pixel_value=255.0,always_apply=True),\n",
        "            ])"
      ],
      "execution_count": null,
      "outputs": []
    },
    {
      "cell_type": "code",
      "metadata": {
        "execution": {
          "iopub.execute_input": "2020-12-26T11:52:15.475154Z",
          "iopub.status.busy": "2020-12-26T11:52:15.474257Z",
          "iopub.status.idle": "2020-12-26T11:52:15.477693Z",
          "shell.execute_reply": "2020-12-26T11:52:15.478112Z"
        },
        "id": "e6Id2x5Ww9dv",
        "papermill": {
          "duration": 0.387464,
          "end_time": "2020-12-26T11:52:15.478233",
          "exception": false,
          "start_time": "2020-12-26T11:52:15.090769",
          "status": "completed"
        },
        "tags": [],
        "outputId": "59a2b36f-a243-4159-c9ea-e52b674c28a9"
      },
      "source": [
        "train_images     = X_train.id_code.values.tolist()\n",
        "train_images     = [os.path.join(training_data_path, i+\".png\") for i in train_images]\n",
        "\n",
        "test_images      = X_val.id_code.values.tolist()\n",
        "test_images      = [os.path.join(training_data_path, i+\".png\") for i in test_images]\n",
        "\n",
        "train_dataset    = Cloader(train_images,X_train.diagnosis.values,None,train_tfms)\n",
        "test_dataset     = Cloader(test_images,X_val.diagnosis.values,None,test_tfms)\n",
        "\n",
        "train_dataloader = DataLoader(train_dataset,batch_size=32,shuffle=True,num_workers=4)\n",
        "val_dataloader   = DataLoader(test_dataset,batch_size=32,shuffle=False,num_workers=4)\n",
        "\n",
        "device           = torch.device(\"cuda\" if torch.cuda.is_available() else \"cpu\")\n",
        "device"
      ],
      "execution_count": null,
      "outputs": [
        {
          "output_type": "execute_result",
          "data": {
            "text/plain": [
              "device(type='cuda')"
            ]
          },
          "metadata": {
            "tags": []
          },
          "execution_count": 6
        }
      ]
    },
    {
      "cell_type": "code",
      "metadata": {
        "execution": {
          "iopub.execute_input": "2020-12-26T11:52:15.504133Z",
          "iopub.status.busy": "2020-12-26T11:52:15.503485Z",
          "iopub.status.idle": "2020-12-26T11:52:22.072127Z",
          "shell.execute_reply": "2020-12-26T11:52:22.071501Z"
        },
        "id": "vhsevNVywpwy",
        "papermill": {
          "duration": 6.584877,
          "end_time": "2020-12-26T11:52:22.072228",
          "exception": false,
          "start_time": "2020-12-26T11:52:15.487351",
          "status": "completed"
        },
        "tags": [],
        "outputId": "5f2038fe-56b1-4fbd-8f35-66baf9435f91",
        "colab": {
          "referenced_widgets": [
            "cb9097b5ff9d42c884a1d277c257d09d"
          ]
        }
      },
      "source": [
        "# ===== Define model\n",
        "\n",
        "class Net(nn.Module):\n",
        "    def __init__(self):\n",
        "        super(Net, self).__init__()\n",
        "        self.base_model = EfficientNet.from_pretrained('efficientnet-b0',num_classes=5)\n",
        "    def forward(self, image, targets):\n",
        "        batch_size, _, _, _ = image.shape\n",
        "        out = self.base_model(image)\n",
        "        targets = torch.tensor(targets,dtype=torch.int64)\n",
        "        loss = nn.CrossEntropyLoss()(out.view(batch_size,5), targets)\n",
        "        return out, loss\n",
        "\n",
        "model = Net()\n",
        "model.to(device);"
      ],
      "execution_count": null,
      "outputs": [
        {
          "output_type": "stream",
          "text": [
            "Downloading: \"https://github.com/lukemelas/EfficientNet-PyTorch/releases/download/1.0/efficientnet-b0-355c32eb.pth\" to /root/.cache/torch/hub/checkpoints/efficientnet-b0-355c32eb.pth\n"
          ],
          "name": "stderr"
        },
        {
          "output_type": "display_data",
          "data": {
            "application/vnd.jupyter.widget-view+json": {
              "model_id": "cb9097b5ff9d42c884a1d277c257d09d",
              "version_major": 2,
              "version_minor": 0
            },
            "text/plain": [
              "HBox(children=(FloatProgress(value=0.0, max=21388428.0), HTML(value='')))"
            ]
          },
          "metadata": {
            "tags": []
          }
        },
        {
          "output_type": "stream",
          "text": [
            "\n",
            "Loaded pretrained weights for efficientnet-b0\n"
          ],
          "name": "stdout"
        }
      ]
    },
    {
      "cell_type": "code",
      "metadata": {
        "execution": {
          "iopub.execute_input": "2020-12-26T11:52:22.098851Z",
          "iopub.status.busy": "2020-12-26T11:52:22.098044Z",
          "iopub.status.idle": "2020-12-26T11:52:22.101436Z",
          "shell.execute_reply": "2020-12-26T11:52:22.101987Z"
        },
        "id": "tKAeGJTXkpIE",
        "papermill": {
          "duration": 0.018888,
          "end_time": "2020-12-26T11:52:22.102096",
          "exception": false,
          "start_time": "2020-12-26T11:52:22.083208",
          "status": "completed"
        },
        "tags": []
      },
      "source": [
        "def softmax(array):\n",
        "    return np.exp(array)/np.sum(np.exp(array),axis=1).reshape(-1,1)"
      ],
      "execution_count": null,
      "outputs": []
    },
    {
      "cell_type": "code",
      "metadata": {
        "execution": {
          "iopub.execute_input": "2020-12-26T11:52:22.134380Z",
          "iopub.status.busy": "2020-12-26T11:52:22.133223Z",
          "iopub.status.idle": "2020-12-26T11:52:22.136087Z",
          "shell.execute_reply": "2020-12-26T11:52:22.135687Z"
        },
        "id": "WBbO8bx977AG",
        "papermill": {
          "duration": 0.023096,
          "end_time": "2020-12-26T11:52:22.136173",
          "exception": false,
          "start_time": "2020-12-26T11:52:22.113077",
          "status": "completed"
        },
        "tags": []
      },
      "source": [
        "optimizer = Ranger(model.parameters(),lr=5e-4)\n",
        "scheduler = ReduceLROnPlateau(optimizer,factor=0.6, mode=\"min\", patience=2)\n",
        "\n",
        "trainer   = Trainer(model=model,optimizer=optimizer,device=device,val_scheduler=scheduler)\n",
        "logger    = Logger()\n"
      ],
      "execution_count": null,
      "outputs": []
    },
    {
      "cell_type": "code",
      "metadata": {
        "execution": {
          "iopub.execute_input": "2020-12-26T11:52:22.165400Z",
          "iopub.status.busy": "2020-12-26T11:52:22.164641Z",
          "iopub.status.idle": "2020-12-26T14:47:03.646963Z",
          "shell.execute_reply": "2020-12-26T14:47:03.646519Z"
        },
        "id": "T4DrDWxmh8Mg",
        "papermill": {
          "duration": 10481.500165,
          "end_time": "2020-12-26T14:47:03.647067",
          "exception": false,
          "start_time": "2020-12-26T11:52:22.146902",
          "status": "completed"
        },
        "tags": [],
        "outputId": "b4e10d96-6b79-40b5-ddbd-72ed3f9d1bef",
        "colab": {
          "referenced_widgets": [
            "684cedbc0f3c4daaa947a0e6f6821f0a",
            "89a8fcaa87704846aeff7092ab7de840",
            "1b8237d54ff345dfa7700ed57da075c9",
            "13a93fd6e032403bb8ee16162ba047e7",
            "ea163972da0b4559a3eff2fad06e111b",
            "c66fda2ead29487b82fed07b375974b1",
            "01adc127851d409f9b5431566b46ad1d",
            "49d774e8a13e4427b778668792e44b23",
            "ea919867ec674315ada4d89d7905cdc1",
            "28d0fadff95048b5a69904aa79f492ad",
            "15a837946d6741209cb4829e458dc508",
            "7df8b42afa8e4158944ea19750cbbab2",
            "8068b67e2ee7419587ae7685dd9fddb2",
            "3b18d8372058467a8ae9a15075816f92",
            "a04d2d8fb5584d24940f5446dfbbaa80",
            "fc93b724e41a458b94f9d05af5c6c9a6",
            "19a7e41f18d1446a904caadc01c969ef",
            "d66bab257d6849f78dc872b0a2dc3864",
            "85c87185ae7946a4b3c33fab072e032e",
            "4c99750c88f34dc283cdf21056b029d6",
            "62e190d8016f40b28df895e3f47742d5",
            "afcd9aaa9e06435d9e42009411b34dd9",
            "6cb377f4f9164493808535da7ac822e0",
            "5e5caab53b37427eb869f04c9910b172",
            "b4ab19ccf9934ebca9c57d570cc194e0",
            "05a2fef86e534458af2d063c0f4c6013",
            "197c7efffbdc4113b243108e40140df7",
            "81a0e285711f4b95a6d5475319fc5e82",
            "f358449af95f458fbc5417e6f280e227",
            "a9bc97a9015e4a11ad8834820f5f444b",
            "fde111199e824eada6e0eda16bf2fa13",
            "91fc41125fbd4779b7484f62331e54b7",
            "99ea55e6c604412190c91993ea4f0238",
            "4def1fb21ade4020a25df8b3fd5cb0c6",
            "11967f13de214636b48259293f64cd6b",
            "ee8569d721a84a98947a00ced11338c8",
            "808d2bb068b04a3daba6309f18f1c946",
            "079b8144febb4b70975d1134017723b1",
            "ea0a02af34194ced8e66eb25ecaa27b9",
            "53a86234a00d4a56b03a847e3283b6e8",
            "91c0ebfd506b4fdb93be22016d38a392",
            "f590bfd63afa4cfa9d53a6c0cb11ec9b",
            "5eb14ac864214c30874eafe734943909",
            "1620bcfd485e4556a891064cc2f10408",
            "fd3ba033e3e44fdbb0c903cb12523cc8",
            "8ecb26a2bf6d4c0fa006f88ac39f694f",
            "1c23855951c0489d8efe07468af3fdd8",
            "5921e833382a45c1967c62b2b0dd72ce",
            "176930983a6740d2a97eccde43820b18",
            "3dbc2b8273c9437b8f50452918c2f994",
            "0b50b4508465432c970352dd8f2ab0a6",
            "c926054121864a44adeb75990d8f7488",
            "a9753f54229f4a04865b93997b7eb9cd",
            "3a8a3c8614d44332b72815eeb2c6db9f",
            "b3e1a26f926747278f9a643c9ad62f87",
            "518041f3794d4dfbbd343af0cc423870",
            "38534b77239745e0a7b73ff754cb90a1",
            "75d1ec27b0434158947ce9fd4b680334",
            "5df2f201c3904b5dae9f4bc337edfcdb",
            "f4c15ff7a4564c938371b21bdb2e382a"
          ]
        }
      },
      "source": [
        "epochs = 30\n",
        "best_loss = np.Inf\n",
        "for epoch in range(epochs):\n",
        "    logger.write(f\"+ ===== Epoch {epoch+1}/{epochs} ===== +\")\n",
        "    train_loss              = trainer.train(train_dataloader)\n",
        "    y_true,y_pred ,val_loss = trainer.evaluate(val_dataloader)\n",
        "    y_pred                  = softmax(y_pred)\n",
        "    accuracy                = accuracy_score(y_true,np.argmax(y_pred,axis=1))\n",
        "    \n",
        "    logger.write(f\"train_loss {train_loss} val_loss {val_loss} \")\n",
        "    logger.write(f\"val accuracy_score {accuracy} \")\n",
        "    logger.write(\" \")\n",
        "    if val_loss < best_loss:\n",
        "        best_loss = val_loss\n",
        "        torch.save(model.state_dict(),'best.pth')\n"
      ],
      "execution_count": null,
      "outputs": [
        {
          "output_type": "stream",
          "text": [
            "+ ===== Epoch 1/30 ===== +\n"
          ],
          "name": "stdout"
        },
        {
          "output_type": "display_data",
          "data": {
            "application/vnd.jupyter.widget-view+json": {
              "model_id": "684cedbc0f3c4daaa947a0e6f6821f0a",
              "version_major": 2,
              "version_minor": 0
            },
            "text/plain": [
              "HBox(children=(FloatProgress(value=0.0, max=92.0), HTML(value='')))"
            ]
          },
          "metadata": {
            "tags": []
          }
        },
        {
          "output_type": "stream",
          "text": [
            "\n"
          ],
          "name": "stdout"
        },
        {
          "output_type": "display_data",
          "data": {
            "application/vnd.jupyter.widget-view+json": {
              "model_id": "89a8fcaa87704846aeff7092ab7de840",
              "version_major": 2,
              "version_minor": 0
            },
            "text/plain": [
              "HBox(children=(FloatProgress(value=0.0, max=23.0), HTML(value='')))"
            ]
          },
          "metadata": {
            "tags": []
          }
        },
        {
          "output_type": "stream",
          "text": [
            "\n",
            "train_loss 1.3939328990552742 val_loss 1.138433655966883 \n",
            "val accuracy_score 0.504774897680764 \n",
            " \n",
            "+ ===== Epoch 2/30 ===== +\n"
          ],
          "name": "stdout"
        },
        {
          "output_type": "display_data",
          "data": {
            "application/vnd.jupyter.widget-view+json": {
              "model_id": "1b8237d54ff345dfa7700ed57da075c9",
              "version_major": 2,
              "version_minor": 0
            },
            "text/plain": [
              "HBox(children=(FloatProgress(value=0.0, max=92.0), HTML(value='')))"
            ]
          },
          "metadata": {
            "tags": []
          }
        },
        {
          "output_type": "stream",
          "text": [
            "\n"
          ],
          "name": "stdout"
        },
        {
          "output_type": "display_data",
          "data": {
            "application/vnd.jupyter.widget-view+json": {
              "model_id": "13a93fd6e032403bb8ee16162ba047e7",
              "version_major": 2,
              "version_minor": 0
            },
            "text/plain": [
              "HBox(children=(FloatProgress(value=0.0, max=23.0), HTML(value='')))"
            ]
          },
          "metadata": {
            "tags": []
          }
        },
        {
          "output_type": "stream",
          "text": [
            "\n",
            "train_loss 0.8837939850662067 val_loss 0.7619689625242483 \n",
            "val accuracy_score 0.732605729877217 \n",
            " \n",
            "+ ===== Epoch 3/30 ===== +\n"
          ],
          "name": "stdout"
        },
        {
          "output_type": "display_data",
          "data": {
            "application/vnd.jupyter.widget-view+json": {
              "model_id": "ea163972da0b4559a3eff2fad06e111b",
              "version_major": 2,
              "version_minor": 0
            },
            "text/plain": [
              "HBox(children=(FloatProgress(value=0.0, max=92.0), HTML(value='')))"
            ]
          },
          "metadata": {
            "tags": []
          }
        },
        {
          "output_type": "stream",
          "text": [
            "\n"
          ],
          "name": "stdout"
        },
        {
          "output_type": "display_data",
          "data": {
            "application/vnd.jupyter.widget-view+json": {
              "model_id": "c66fda2ead29487b82fed07b375974b1",
              "version_major": 2,
              "version_minor": 0
            },
            "text/plain": [
              "HBox(children=(FloatProgress(value=0.0, max=23.0), HTML(value='')))"
            ]
          },
          "metadata": {
            "tags": []
          }
        },
        {
          "output_type": "stream",
          "text": [
            "\n",
            "train_loss 0.7090144743737967 val_loss 0.6493037835411404 \n",
            "val accuracy_score 0.7517053206002728 \n",
            " \n",
            "+ ===== Epoch 4/30 ===== +\n"
          ],
          "name": "stdout"
        },
        {
          "output_type": "display_data",
          "data": {
            "application/vnd.jupyter.widget-view+json": {
              "model_id": "01adc127851d409f9b5431566b46ad1d",
              "version_major": 2,
              "version_minor": 0
            },
            "text/plain": [
              "HBox(children=(FloatProgress(value=0.0, max=92.0), HTML(value='')))"
            ]
          },
          "metadata": {
            "tags": []
          }
        },
        {
          "output_type": "stream",
          "text": [
            "\n"
          ],
          "name": "stdout"
        },
        {
          "output_type": "display_data",
          "data": {
            "application/vnd.jupyter.widget-view+json": {
              "model_id": "49d774e8a13e4427b778668792e44b23",
              "version_major": 2,
              "version_minor": 0
            },
            "text/plain": [
              "HBox(children=(FloatProgress(value=0.0, max=23.0), HTML(value='')))"
            ]
          },
          "metadata": {
            "tags": []
          }
        },
        {
          "output_type": "stream",
          "text": [
            "\n",
            "train_loss 0.633161683121453 val_loss 0.597512521173643 \n",
            "val accuracy_score 0.7735334242837654 \n",
            " \n",
            "+ ===== Epoch 5/30 ===== +\n"
          ],
          "name": "stdout"
        },
        {
          "output_type": "display_data",
          "data": {
            "application/vnd.jupyter.widget-view+json": {
              "model_id": "ea919867ec674315ada4d89d7905cdc1",
              "version_major": 2,
              "version_minor": 0
            },
            "text/plain": [
              "HBox(children=(FloatProgress(value=0.0, max=92.0), HTML(value='')))"
            ]
          },
          "metadata": {
            "tags": []
          }
        },
        {
          "output_type": "stream",
          "text": [
            "\n"
          ],
          "name": "stdout"
        },
        {
          "output_type": "display_data",
          "data": {
            "application/vnd.jupyter.widget-view+json": {
              "model_id": "28d0fadff95048b5a69904aa79f492ad",
              "version_major": 2,
              "version_minor": 0
            },
            "text/plain": [
              "HBox(children=(FloatProgress(value=0.0, max=23.0), HTML(value='')))"
            ]
          },
          "metadata": {
            "tags": []
          }
        },
        {
          "output_type": "stream",
          "text": [
            "\n",
            "train_loss 0.5796511869715609 val_loss 0.5587652675483537 \n",
            "val accuracy_score 0.781718963165075 \n",
            " \n",
            "+ ===== Epoch 6/30 ===== +\n"
          ],
          "name": "stdout"
        },
        {
          "output_type": "display_data",
          "data": {
            "application/vnd.jupyter.widget-view+json": {
              "model_id": "15a837946d6741209cb4829e458dc508",
              "version_major": 2,
              "version_minor": 0
            },
            "text/plain": [
              "HBox(children=(FloatProgress(value=0.0, max=92.0), HTML(value='')))"
            ]
          },
          "metadata": {
            "tags": []
          }
        },
        {
          "output_type": "stream",
          "text": [
            "\n"
          ],
          "name": "stdout"
        },
        {
          "output_type": "display_data",
          "data": {
            "application/vnd.jupyter.widget-view+json": {
              "model_id": "7df8b42afa8e4158944ea19750cbbab2",
              "version_major": 2,
              "version_minor": 0
            },
            "text/plain": [
              "HBox(children=(FloatProgress(value=0.0, max=23.0), HTML(value='')))"
            ]
          },
          "metadata": {
            "tags": []
          }
        },
        {
          "output_type": "stream",
          "text": [
            "\n",
            "train_loss 0.5373851196921389 val_loss 0.539426793222842 \n",
            "val accuracy_score 0.7844474761255116 \n",
            " \n",
            "+ ===== Epoch 7/30 ===== +\n"
          ],
          "name": "stdout"
        },
        {
          "output_type": "display_data",
          "data": {
            "application/vnd.jupyter.widget-view+json": {
              "model_id": "8068b67e2ee7419587ae7685dd9fddb2",
              "version_major": 2,
              "version_minor": 0
            },
            "text/plain": [
              "HBox(children=(FloatProgress(value=0.0, max=92.0), HTML(value='')))"
            ]
          },
          "metadata": {
            "tags": []
          }
        },
        {
          "output_type": "stream",
          "text": [
            "\n"
          ],
          "name": "stdout"
        },
        {
          "output_type": "display_data",
          "data": {
            "application/vnd.jupyter.widget-view+json": {
              "model_id": "3b18d8372058467a8ae9a15075816f92",
              "version_major": 2,
              "version_minor": 0
            },
            "text/plain": [
              "HBox(children=(FloatProgress(value=0.0, max=23.0), HTML(value='')))"
            ]
          },
          "metadata": {
            "tags": []
          }
        },
        {
          "output_type": "stream",
          "text": [
            "\n",
            "train_loss 0.5121779556831587 val_loss 0.5403107326963673 \n",
            "val accuracy_score 0.7926330150068213 \n",
            " \n",
            "+ ===== Epoch 8/30 ===== +\n"
          ],
          "name": "stdout"
        },
        {
          "output_type": "display_data",
          "data": {
            "application/vnd.jupyter.widget-view+json": {
              "model_id": "a04d2d8fb5584d24940f5446dfbbaa80",
              "version_major": 2,
              "version_minor": 0
            },
            "text/plain": [
              "HBox(children=(FloatProgress(value=0.0, max=92.0), HTML(value='')))"
            ]
          },
          "metadata": {
            "tags": []
          }
        },
        {
          "output_type": "stream",
          "text": [
            "\n"
          ],
          "name": "stdout"
        },
        {
          "output_type": "display_data",
          "data": {
            "application/vnd.jupyter.widget-view+json": {
              "model_id": "fc93b724e41a458b94f9d05af5c6c9a6",
              "version_major": 2,
              "version_minor": 0
            },
            "text/plain": [
              "HBox(children=(FloatProgress(value=0.0, max=23.0), HTML(value='')))"
            ]
          },
          "metadata": {
            "tags": []
          }
        },
        {
          "output_type": "stream",
          "text": [
            "\n",
            "train_loss 0.48634982886521727 val_loss 0.542342702979627 \n",
            "val accuracy_score 0.819918144611187 \n",
            " \n",
            "+ ===== Epoch 9/30 ===== +\n"
          ],
          "name": "stdout"
        },
        {
          "output_type": "display_data",
          "data": {
            "application/vnd.jupyter.widget-view+json": {
              "model_id": "19a7e41f18d1446a904caadc01c969ef",
              "version_major": 2,
              "version_minor": 0
            },
            "text/plain": [
              "HBox(children=(FloatProgress(value=0.0, max=92.0), HTML(value='')))"
            ]
          },
          "metadata": {
            "tags": []
          }
        },
        {
          "output_type": "stream",
          "text": [
            "\n"
          ],
          "name": "stdout"
        },
        {
          "output_type": "display_data",
          "data": {
            "application/vnd.jupyter.widget-view+json": {
              "model_id": "d66bab257d6849f78dc872b0a2dc3864",
              "version_major": 2,
              "version_minor": 0
            },
            "text/plain": [
              "HBox(children=(FloatProgress(value=0.0, max=23.0), HTML(value='')))"
            ]
          },
          "metadata": {
            "tags": []
          }
        },
        {
          "output_type": "stream",
          "text": [
            "\n",
            "train_loss 0.4471913532394432 val_loss 0.525859165450801 \n",
            "val accuracy_score 0.810368349249659 \n",
            " \n",
            "+ ===== Epoch 10/30 ===== +\n"
          ],
          "name": "stdout"
        },
        {
          "output_type": "display_data",
          "data": {
            "application/vnd.jupyter.widget-view+json": {
              "model_id": "85c87185ae7946a4b3c33fab072e032e",
              "version_major": 2,
              "version_minor": 0
            },
            "text/plain": [
              "HBox(children=(FloatProgress(value=0.0, max=92.0), HTML(value='')))"
            ]
          },
          "metadata": {
            "tags": []
          }
        },
        {
          "output_type": "stream",
          "text": [
            "\n"
          ],
          "name": "stdout"
        },
        {
          "output_type": "display_data",
          "data": {
            "application/vnd.jupyter.widget-view+json": {
              "model_id": "4c99750c88f34dc283cdf21056b029d6",
              "version_major": 2,
              "version_minor": 0
            },
            "text/plain": [
              "HBox(children=(FloatProgress(value=0.0, max=23.0), HTML(value='')))"
            ]
          },
          "metadata": {
            "tags": []
          }
        },
        {
          "output_type": "stream",
          "text": [
            "\n",
            "train_loss 0.44089465944663325 val_loss 0.5147706717252732 \n",
            "val accuracy_score 0.8130968622100955 \n",
            " \n",
            "+ ===== Epoch 11/30 ===== +\n"
          ],
          "name": "stdout"
        },
        {
          "output_type": "display_data",
          "data": {
            "application/vnd.jupyter.widget-view+json": {
              "model_id": "62e190d8016f40b28df895e3f47742d5",
              "version_major": 2,
              "version_minor": 0
            },
            "text/plain": [
              "HBox(children=(FloatProgress(value=0.0, max=92.0), HTML(value='')))"
            ]
          },
          "metadata": {
            "tags": []
          }
        },
        {
          "output_type": "stream",
          "text": [
            "\n"
          ],
          "name": "stdout"
        },
        {
          "output_type": "display_data",
          "data": {
            "application/vnd.jupyter.widget-view+json": {
              "model_id": "afcd9aaa9e06435d9e42009411b34dd9",
              "version_major": 2,
              "version_minor": 0
            },
            "text/plain": [
              "HBox(children=(FloatProgress(value=0.0, max=23.0), HTML(value='')))"
            ]
          },
          "metadata": {
            "tags": []
          }
        },
        {
          "output_type": "stream",
          "text": [
            "\n",
            "train_loss 0.42123729646529834 val_loss 0.49517441832500964 \n",
            "val accuracy_score 0.8240109140518418 \n",
            " \n",
            "+ ===== Epoch 12/30 ===== +\n"
          ],
          "name": "stdout"
        },
        {
          "output_type": "display_data",
          "data": {
            "application/vnd.jupyter.widget-view+json": {
              "model_id": "6cb377f4f9164493808535da7ac822e0",
              "version_major": 2,
              "version_minor": 0
            },
            "text/plain": [
              "HBox(children=(FloatProgress(value=0.0, max=92.0), HTML(value='')))"
            ]
          },
          "metadata": {
            "tags": []
          }
        },
        {
          "output_type": "stream",
          "text": [
            "\n"
          ],
          "name": "stdout"
        },
        {
          "output_type": "display_data",
          "data": {
            "application/vnd.jupyter.widget-view+json": {
              "model_id": "5e5caab53b37427eb869f04c9910b172",
              "version_major": 2,
              "version_minor": 0
            },
            "text/plain": [
              "HBox(children=(FloatProgress(value=0.0, max=23.0), HTML(value='')))"
            ]
          },
          "metadata": {
            "tags": []
          }
        },
        {
          "output_type": "stream",
          "text": [
            "\n",
            "train_loss 0.40458202216288325 val_loss 0.5007943679457124 \n",
            "val accuracy_score 0.8212824010914052 \n",
            " \n",
            "+ ===== Epoch 13/30 ===== +\n"
          ],
          "name": "stdout"
        },
        {
          "output_type": "display_data",
          "data": {
            "application/vnd.jupyter.widget-view+json": {
              "model_id": "b4ab19ccf9934ebca9c57d570cc194e0",
              "version_major": 2,
              "version_minor": 0
            },
            "text/plain": [
              "HBox(children=(FloatProgress(value=0.0, max=92.0), HTML(value='')))"
            ]
          },
          "metadata": {
            "tags": []
          }
        },
        {
          "output_type": "stream",
          "text": [
            "\n"
          ],
          "name": "stdout"
        },
        {
          "output_type": "display_data",
          "data": {
            "application/vnd.jupyter.widget-view+json": {
              "model_id": "05a2fef86e534458af2d063c0f4c6013",
              "version_major": 2,
              "version_minor": 0
            },
            "text/plain": [
              "HBox(children=(FloatProgress(value=0.0, max=23.0), HTML(value='')))"
            ]
          },
          "metadata": {
            "tags": []
          }
        },
        {
          "output_type": "stream",
          "text": [
            "\n",
            "train_loss 0.3847458357720271 val_loss 0.5610736465972402 \n",
            "val accuracy_score 0.8267394270122783 \n",
            " \n",
            "+ ===== Epoch 14/30 ===== +\n"
          ],
          "name": "stdout"
        },
        {
          "output_type": "display_data",
          "data": {
            "application/vnd.jupyter.widget-view+json": {
              "model_id": "197c7efffbdc4113b243108e40140df7",
              "version_major": 2,
              "version_minor": 0
            },
            "text/plain": [
              "HBox(children=(FloatProgress(value=0.0, max=92.0), HTML(value='')))"
            ]
          },
          "metadata": {
            "tags": []
          }
        },
        {
          "output_type": "stream",
          "text": [
            "\n"
          ],
          "name": "stdout"
        },
        {
          "output_type": "display_data",
          "data": {
            "application/vnd.jupyter.widget-view+json": {
              "model_id": "81a0e285711f4b95a6d5475319fc5e82",
              "version_major": 2,
              "version_minor": 0
            },
            "text/plain": [
              "HBox(children=(FloatProgress(value=0.0, max=23.0), HTML(value='')))"
            ]
          },
          "metadata": {
            "tags": []
          }
        },
        {
          "output_type": "stream",
          "text": [
            "\n",
            "train_loss 0.3604671556664551 val_loss 0.5959009476329972 \n",
            "val accuracy_score 0.8090040927694406 \n",
            " \n",
            "+ ===== Epoch 15/30 ===== +\n"
          ],
          "name": "stdout"
        },
        {
          "output_type": "display_data",
          "data": {
            "application/vnd.jupyter.widget-view+json": {
              "model_id": "f358449af95f458fbc5417e6f280e227",
              "version_major": 2,
              "version_minor": 0
            },
            "text/plain": [
              "HBox(children=(FloatProgress(value=0.0, max=92.0), HTML(value='')))"
            ]
          },
          "metadata": {
            "tags": []
          }
        },
        {
          "output_type": "stream",
          "text": [
            "\n"
          ],
          "name": "stdout"
        },
        {
          "output_type": "display_data",
          "data": {
            "application/vnd.jupyter.widget-view+json": {
              "model_id": "a9bc97a9015e4a11ad8834820f5f444b",
              "version_major": 2,
              "version_minor": 0
            },
            "text/plain": [
              "HBox(children=(FloatProgress(value=0.0, max=23.0), HTML(value='')))"
            ]
          },
          "metadata": {
            "tags": []
          }
        },
        {
          "output_type": "stream",
          "text": [
            "\n",
            "train_loss 0.3410887568379225 val_loss 0.5676258867201597 \n",
            "val accuracy_score 0.8035470668485676 \n",
            " \n",
            "+ ===== Epoch 16/30 ===== +\n"
          ],
          "name": "stdout"
        },
        {
          "output_type": "display_data",
          "data": {
            "application/vnd.jupyter.widget-view+json": {
              "model_id": "fde111199e824eada6e0eda16bf2fa13",
              "version_major": 2,
              "version_minor": 0
            },
            "text/plain": [
              "HBox(children=(FloatProgress(value=0.0, max=92.0), HTML(value='')))"
            ]
          },
          "metadata": {
            "tags": []
          }
        },
        {
          "output_type": "stream",
          "text": [
            "\n"
          ],
          "name": "stdout"
        },
        {
          "output_type": "display_data",
          "data": {
            "application/vnd.jupyter.widget-view+json": {
              "model_id": "91fc41125fbd4779b7484f62331e54b7",
              "version_major": 2,
              "version_minor": 0
            },
            "text/plain": [
              "HBox(children=(FloatProgress(value=0.0, max=23.0), HTML(value='')))"
            ]
          },
          "metadata": {
            "tags": []
          }
        },
        {
          "output_type": "stream",
          "text": [
            "\n",
            "train_loss 0.3114290278728891 val_loss 0.5366094008735988 \n",
            "val accuracy_score 0.8226466575716235 \n",
            " \n",
            "+ ===== Epoch 17/30 ===== +\n"
          ],
          "name": "stdout"
        },
        {
          "output_type": "display_data",
          "data": {
            "application/vnd.jupyter.widget-view+json": {
              "model_id": "99ea55e6c604412190c91993ea4f0238",
              "version_major": 2,
              "version_minor": 0
            },
            "text/plain": [
              "HBox(children=(FloatProgress(value=0.0, max=92.0), HTML(value='')))"
            ]
          },
          "metadata": {
            "tags": []
          }
        },
        {
          "output_type": "stream",
          "text": [
            "\n"
          ],
          "name": "stdout"
        },
        {
          "output_type": "display_data",
          "data": {
            "application/vnd.jupyter.widget-view+json": {
              "model_id": "4def1fb21ade4020a25df8b3fd5cb0c6",
              "version_major": 2,
              "version_minor": 0
            },
            "text/plain": [
              "HBox(children=(FloatProgress(value=0.0, max=23.0), HTML(value='')))"
            ]
          },
          "metadata": {
            "tags": []
          }
        },
        {
          "output_type": "stream",
          "text": [
            "\n",
            "train_loss 0.294886461256639 val_loss 0.6467421443566033 \n",
            "val accuracy_score 0.8267394270122783 \n",
            " \n",
            "+ ===== Epoch 18/30 ===== +\n"
          ],
          "name": "stdout"
        },
        {
          "output_type": "display_data",
          "data": {
            "application/vnd.jupyter.widget-view+json": {
              "model_id": "11967f13de214636b48259293f64cd6b",
              "version_major": 2,
              "version_minor": 0
            },
            "text/plain": [
              "HBox(children=(FloatProgress(value=0.0, max=92.0), HTML(value='')))"
            ]
          },
          "metadata": {
            "tags": []
          }
        },
        {
          "output_type": "stream",
          "text": [
            "\n"
          ],
          "name": "stdout"
        },
        {
          "output_type": "display_data",
          "data": {
            "application/vnd.jupyter.widget-view+json": {
              "model_id": "ee8569d721a84a98947a00ced11338c8",
              "version_major": 2,
              "version_minor": 0
            },
            "text/plain": [
              "HBox(children=(FloatProgress(value=0.0, max=23.0), HTML(value='')))"
            ]
          },
          "metadata": {
            "tags": []
          }
        },
        {
          "output_type": "stream",
          "text": [
            "\n",
            "train_loss 0.2807566000391607 val_loss 0.5970478018988734 \n",
            "val accuracy_score 0.834924965893588 \n",
            " \n",
            "+ ===== Epoch 19/30 ===== +\n"
          ],
          "name": "stdout"
        },
        {
          "output_type": "display_data",
          "data": {
            "application/vnd.jupyter.widget-view+json": {
              "model_id": "808d2bb068b04a3daba6309f18f1c946",
              "version_major": 2,
              "version_minor": 0
            },
            "text/plain": [
              "HBox(children=(FloatProgress(value=0.0, max=92.0), HTML(value='')))"
            ]
          },
          "metadata": {
            "tags": []
          }
        },
        {
          "output_type": "stream",
          "text": [
            "\n"
          ],
          "name": "stdout"
        },
        {
          "output_type": "display_data",
          "data": {
            "application/vnd.jupyter.widget-view+json": {
              "model_id": "079b8144febb4b70975d1134017723b1",
              "version_major": 2,
              "version_minor": 0
            },
            "text/plain": [
              "HBox(children=(FloatProgress(value=0.0, max=23.0), HTML(value='')))"
            ]
          },
          "metadata": {
            "tags": []
          }
        },
        {
          "output_type": "stream",
          "text": [
            "\n",
            "train_loss 0.24528858956435448 val_loss 0.5766482068144757 \n",
            "val accuracy_score 0.8267394270122783 \n",
            " \n",
            "+ ===== Epoch 20/30 ===== +\n"
          ],
          "name": "stdout"
        },
        {
          "output_type": "display_data",
          "data": {
            "application/vnd.jupyter.widget-view+json": {
              "model_id": "ea0a02af34194ced8e66eb25ecaa27b9",
              "version_major": 2,
              "version_minor": 0
            },
            "text/plain": [
              "HBox(children=(FloatProgress(value=0.0, max=92.0), HTML(value='')))"
            ]
          },
          "metadata": {
            "tags": []
          }
        },
        {
          "output_type": "stream",
          "text": [
            "\n"
          ],
          "name": "stdout"
        },
        {
          "output_type": "display_data",
          "data": {
            "application/vnd.jupyter.widget-view+json": {
              "model_id": "53a86234a00d4a56b03a847e3283b6e8",
              "version_major": 2,
              "version_minor": 0
            },
            "text/plain": [
              "HBox(children=(FloatProgress(value=0.0, max=23.0), HTML(value='')))"
            ]
          },
          "metadata": {
            "tags": []
          }
        },
        {
          "output_type": "stream",
          "text": [
            "\n",
            "train_loss 0.2659053227499775 val_loss 0.6511934464392454 \n",
            "val accuracy_score 0.8335607094133697 \n",
            " \n",
            "+ ===== Epoch 21/30 ===== +\n"
          ],
          "name": "stdout"
        },
        {
          "output_type": "display_data",
          "data": {
            "application/vnd.jupyter.widget-view+json": {
              "model_id": "91c0ebfd506b4fdb93be22016d38a392",
              "version_major": 2,
              "version_minor": 0
            },
            "text/plain": [
              "HBox(children=(FloatProgress(value=0.0, max=92.0), HTML(value='')))"
            ]
          },
          "metadata": {
            "tags": []
          }
        },
        {
          "output_type": "stream",
          "text": [
            "\n"
          ],
          "name": "stdout"
        },
        {
          "output_type": "display_data",
          "data": {
            "application/vnd.jupyter.widget-view+json": {
              "model_id": "f590bfd63afa4cfa9d53a6c0cb11ec9b",
              "version_major": 2,
              "version_minor": 0
            },
            "text/plain": [
              "HBox(children=(FloatProgress(value=0.0, max=23.0), HTML(value='')))"
            ]
          },
          "metadata": {
            "tags": []
          }
        },
        {
          "output_type": "stream",
          "text": [
            "\n",
            "train_loss 0.24499450186672417 val_loss 0.6005987330623295 \n",
            "val accuracy_score 0.8294679399727148 \n",
            " \n",
            "+ ===== Epoch 22/30 ===== +\n"
          ],
          "name": "stdout"
        },
        {
          "output_type": "display_data",
          "data": {
            "application/vnd.jupyter.widget-view+json": {
              "model_id": "5eb14ac864214c30874eafe734943909",
              "version_major": 2,
              "version_minor": 0
            },
            "text/plain": [
              "HBox(children=(FloatProgress(value=0.0, max=92.0), HTML(value='')))"
            ]
          },
          "metadata": {
            "tags": []
          }
        },
        {
          "output_type": "stream",
          "text": [
            "\n"
          ],
          "name": "stdout"
        },
        {
          "output_type": "display_data",
          "data": {
            "application/vnd.jupyter.widget-view+json": {
              "model_id": "1620bcfd485e4556a891064cc2f10408",
              "version_major": 2,
              "version_minor": 0
            },
            "text/plain": [
              "HBox(children=(FloatProgress(value=0.0, max=23.0), HTML(value='')))"
            ]
          },
          "metadata": {
            "tags": []
          }
        },
        {
          "output_type": "stream",
          "text": [
            "\n",
            "train_loss 0.2330396636186735 val_loss 0.6054006737211476 \n",
            "val accuracy_score 0.8321964529331515 \n",
            " \n",
            "+ ===== Epoch 23/30 ===== +\n"
          ],
          "name": "stdout"
        },
        {
          "output_type": "display_data",
          "data": {
            "application/vnd.jupyter.widget-view+json": {
              "model_id": "fd3ba033e3e44fdbb0c903cb12523cc8",
              "version_major": 2,
              "version_minor": 0
            },
            "text/plain": [
              "HBox(children=(FloatProgress(value=0.0, max=92.0), HTML(value='')))"
            ]
          },
          "metadata": {
            "tags": []
          }
        },
        {
          "output_type": "stream",
          "text": [
            "\n"
          ],
          "name": "stdout"
        },
        {
          "output_type": "display_data",
          "data": {
            "application/vnd.jupyter.widget-view+json": {
              "model_id": "8ecb26a2bf6d4c0fa006f88ac39f694f",
              "version_major": 2,
              "version_minor": 0
            },
            "text/plain": [
              "HBox(children=(FloatProgress(value=0.0, max=23.0), HTML(value='')))"
            ]
          },
          "metadata": {
            "tags": []
          }
        },
        {
          "output_type": "stream",
          "text": [
            "\n",
            "train_loss 0.20996340505940753 val_loss 0.5967893678209056 \n",
            "val accuracy_score 0.8171896316507503 \n",
            " \n",
            "+ ===== Epoch 24/30 ===== +\n"
          ],
          "name": "stdout"
        },
        {
          "output_type": "display_data",
          "data": {
            "application/vnd.jupyter.widget-view+json": {
              "model_id": "1c23855951c0489d8efe07468af3fdd8",
              "version_major": 2,
              "version_minor": 0
            },
            "text/plain": [
              "HBox(children=(FloatProgress(value=0.0, max=92.0), HTML(value='')))"
            ]
          },
          "metadata": {
            "tags": []
          }
        },
        {
          "output_type": "stream",
          "text": [
            "\n"
          ],
          "name": "stdout"
        },
        {
          "output_type": "display_data",
          "data": {
            "application/vnd.jupyter.widget-view+json": {
              "model_id": "5921e833382a45c1967c62b2b0dd72ce",
              "version_major": 2,
              "version_minor": 0
            },
            "text/plain": [
              "HBox(children=(FloatProgress(value=0.0, max=23.0), HTML(value='')))"
            ]
          },
          "metadata": {
            "tags": []
          }
        },
        {
          "output_type": "stream",
          "text": [
            "\n",
            "train_loss 0.2075895534666336 val_loss 0.6371063875115437 \n",
            "val accuracy_score 0.82537517053206 \n",
            " \n",
            "+ ===== Epoch 25/30 ===== +\n"
          ],
          "name": "stdout"
        },
        {
          "output_type": "display_data",
          "data": {
            "application/vnd.jupyter.widget-view+json": {
              "model_id": "176930983a6740d2a97eccde43820b18",
              "version_major": 2,
              "version_minor": 0
            },
            "text/plain": [
              "HBox(children=(FloatProgress(value=0.0, max=92.0), HTML(value='')))"
            ]
          },
          "metadata": {
            "tags": []
          }
        },
        {
          "output_type": "stream",
          "text": [
            "\n"
          ],
          "name": "stdout"
        },
        {
          "output_type": "display_data",
          "data": {
            "application/vnd.jupyter.widget-view+json": {
              "model_id": "3dbc2b8273c9437b8f50452918c2f994",
              "version_major": 2,
              "version_minor": 0
            },
            "text/plain": [
              "HBox(children=(FloatProgress(value=0.0, max=23.0), HTML(value='')))"
            ]
          },
          "metadata": {
            "tags": []
          }
        },
        {
          "output_type": "stream",
          "text": [
            "\n",
            "train_loss 0.20605564676225196 val_loss 0.6258371394613516 \n",
            "val accuracy_score 0.8294679399727148 \n",
            " \n",
            "+ ===== Epoch 26/30 ===== +\n"
          ],
          "name": "stdout"
        },
        {
          "output_type": "display_data",
          "data": {
            "application/vnd.jupyter.widget-view+json": {
              "model_id": "0b50b4508465432c970352dd8f2ab0a6",
              "version_major": 2,
              "version_minor": 0
            },
            "text/plain": [
              "HBox(children=(FloatProgress(value=0.0, max=92.0), HTML(value='')))"
            ]
          },
          "metadata": {
            "tags": []
          }
        },
        {
          "output_type": "stream",
          "text": [
            "\n"
          ],
          "name": "stdout"
        },
        {
          "output_type": "display_data",
          "data": {
            "application/vnd.jupyter.widget-view+json": {
              "model_id": "c926054121864a44adeb75990d8f7488",
              "version_major": 2,
              "version_minor": 0
            },
            "text/plain": [
              "HBox(children=(FloatProgress(value=0.0, max=23.0), HTML(value='')))"
            ]
          },
          "metadata": {
            "tags": []
          }
        },
        {
          "output_type": "stream",
          "text": [
            "\n",
            "train_loss 0.1929361527056798 val_loss 0.6398223755152329 \n",
            "val accuracy_score 0.8267394270122783 \n",
            " \n",
            "+ ===== Epoch 27/30 ===== +\n"
          ],
          "name": "stdout"
        },
        {
          "output_type": "display_data",
          "data": {
            "application/vnd.jupyter.widget-view+json": {
              "model_id": "a9753f54229f4a04865b93997b7eb9cd",
              "version_major": 2,
              "version_minor": 0
            },
            "text/plain": [
              "HBox(children=(FloatProgress(value=0.0, max=92.0), HTML(value='')))"
            ]
          },
          "metadata": {
            "tags": []
          }
        },
        {
          "output_type": "stream",
          "text": [
            "\n"
          ],
          "name": "stdout"
        },
        {
          "output_type": "display_data",
          "data": {
            "application/vnd.jupyter.widget-view+json": {
              "model_id": "3a8a3c8614d44332b72815eeb2c6db9f",
              "version_major": 2,
              "version_minor": 0
            },
            "text/plain": [
              "HBox(children=(FloatProgress(value=0.0, max=23.0), HTML(value='')))"
            ]
          },
          "metadata": {
            "tags": []
          }
        },
        {
          "output_type": "stream",
          "text": [
            "\n",
            "train_loss 0.19186901088561054 val_loss 0.640695792177449 \n",
            "val accuracy_score 0.8308321964529332 \n",
            " \n",
            "+ ===== Epoch 28/30 ===== +\n"
          ],
          "name": "stdout"
        },
        {
          "output_type": "display_data",
          "data": {
            "application/vnd.jupyter.widget-view+json": {
              "model_id": "b3e1a26f926747278f9a643c9ad62f87",
              "version_major": 2,
              "version_minor": 0
            },
            "text/plain": [
              "HBox(children=(FloatProgress(value=0.0, max=92.0), HTML(value='')))"
            ]
          },
          "metadata": {
            "tags": []
          }
        },
        {
          "output_type": "stream",
          "text": [
            "\n"
          ],
          "name": "stdout"
        },
        {
          "output_type": "display_data",
          "data": {
            "application/vnd.jupyter.widget-view+json": {
              "model_id": "518041f3794d4dfbbd343af0cc423870",
              "version_major": 2,
              "version_minor": 0
            },
            "text/plain": [
              "HBox(children=(FloatProgress(value=0.0, max=23.0), HTML(value='')))"
            ]
          },
          "metadata": {
            "tags": []
          }
        },
        {
          "output_type": "stream",
          "text": [
            "\n",
            "train_loss 0.18413919384550795 val_loss 0.6254686052384584 \n",
            "val accuracy_score 0.82537517053206 \n",
            " \n",
            "+ ===== Epoch 29/30 ===== +\n"
          ],
          "name": "stdout"
        },
        {
          "output_type": "display_data",
          "data": {
            "application/vnd.jupyter.widget-view+json": {
              "model_id": "38534b77239745e0a7b73ff754cb90a1",
              "version_major": 2,
              "version_minor": 0
            },
            "text/plain": [
              "HBox(children=(FloatProgress(value=0.0, max=92.0), HTML(value='')))"
            ]
          },
          "metadata": {
            "tags": []
          }
        },
        {
          "output_type": "stream",
          "text": [
            "\n"
          ],
          "name": "stdout"
        },
        {
          "output_type": "display_data",
          "data": {
            "application/vnd.jupyter.widget-view+json": {
              "model_id": "75d1ec27b0434158947ce9fd4b680334",
              "version_major": 2,
              "version_minor": 0
            },
            "text/plain": [
              "HBox(children=(FloatProgress(value=0.0, max=23.0), HTML(value='')))"
            ]
          },
          "metadata": {
            "tags": []
          }
        },
        {
          "output_type": "stream",
          "text": [
            "\n",
            "train_loss 0.19880014933321782 val_loss 0.6318837080312814 \n",
            "val accuracy_score 0.8321964529331515 \n",
            " \n",
            "+ ===== Epoch 30/30 ===== +\n"
          ],
          "name": "stdout"
        },
        {
          "output_type": "display_data",
          "data": {
            "application/vnd.jupyter.widget-view+json": {
              "model_id": "5df2f201c3904b5dae9f4bc337edfcdb",
              "version_major": 2,
              "version_minor": 0
            },
            "text/plain": [
              "HBox(children=(FloatProgress(value=0.0, max=92.0), HTML(value='')))"
            ]
          },
          "metadata": {
            "tags": []
          }
        },
        {
          "output_type": "stream",
          "text": [
            "\n"
          ],
          "name": "stdout"
        },
        {
          "output_type": "display_data",
          "data": {
            "application/vnd.jupyter.widget-view+json": {
              "model_id": "f4c15ff7a4564c938371b21bdb2e382a",
              "version_major": 2,
              "version_minor": 0
            },
            "text/plain": [
              "HBox(children=(FloatProgress(value=0.0, max=23.0), HTML(value='')))"
            ]
          },
          "metadata": {
            "tags": []
          }
        },
        {
          "output_type": "stream",
          "text": [
            "\n",
            "train_loss 0.18849391767593185 val_loss 0.6391214443289716 \n",
            "val accuracy_score 0.8267394270122783 \n",
            " \n"
          ],
          "name": "stdout"
        }
      ]
    },
    {
      "cell_type": "code",
      "metadata": {
        "papermill": {
          "duration": 0.05377,
          "end_time": "2020-12-26T14:47:03.755414",
          "exception": false,
          "start_time": "2020-12-26T14:47:03.701644",
          "status": "completed"
        },
        "tags": [],
        "id": "C0kIF71H0bWC"
      },
      "source": [
        ""
      ],
      "execution_count": null,
      "outputs": []
    }
  ]
}