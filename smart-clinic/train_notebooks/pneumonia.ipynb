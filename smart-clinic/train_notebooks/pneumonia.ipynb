{
  "nbformat": 4,
  "nbformat_minor": 0,
  "metadata": {
    "kernelspec": {
      "display_name": "Python 3",
      "language": "python",
      "name": "python3"
    },
    "language_info": {
      "codemirror_mode": {
        "name": "ipython",
        "version": 3
      },
      "file_extension": ".py",
      "mimetype": "text/x-python",
      "name": "python",
      "nbconvert_exporter": "python",
      "pygments_lexer": "ipython3",
      "version": "3.7.6"
    },
    "papermill": {
      "duration": 2768.02608,
      "end_time": "2020-12-26T12:05:17.916952",
      "environment_variables": {},
      "exception": null,
      "input_path": "__notebook__.ipynb",
      "output_path": "__notebook__.ipynb",
      "parameters": {},
      "start_time": "2020-12-26T11:19:09.890872",
      "version": "2.1.0"
    },
    "widgets": {
      "application/vnd.jupyter.widget-state+json": {}
    },
    "colab": {
      "name": "pneumonia.ipynb",
      "provenance": []
    }
  },
  "cells": [
    {
      "cell_type": "code",
      "metadata": {
        "execution": {
          "iopub.execute_input": "2020-12-26T11:19:14.001782Z",
          "iopub.status.busy": "2020-12-26T11:19:14.000952Z",
          "iopub.status.idle": "2020-12-26T11:19:47.949997Z",
          "shell.execute_reply": "2020-12-26T11:19:47.949435Z"
        },
        "id": "eFqngZV8WQoC",
        "papermill": {
          "duration": 33.969665,
          "end_time": "2020-12-26T11:19:47.950118",
          "exception": false,
          "start_time": "2020-12-26T11:19:13.980453",
          "status": "completed"
        },
        "tags": [],
        "outputId": "0718f607-a1b0-40f9-e22c-d5e6554dc04e"
      },
      "source": [
        "# ==== Install Dependencies\n",
        "\n",
        "!pip install -q efficientnet-pytorch\n",
        "!pip install -q albumentations\n",
        "!pip install -q pytorch_ranger"
      ],
      "execution_count": null,
      "outputs": [
        {
          "output_type": "stream",
          "text": [
            "\u001b[33mWARNING: You are using pip version 20.3.1; however, version 20.3.3 is available.\r\n",
            "You should consider upgrading via the '/opt/conda/bin/python3.7 -m pip install --upgrade pip' command.\u001b[0m\r\n",
            "\u001b[33mWARNING: You are using pip version 20.3.1; however, version 20.3.3 is available.\r\n",
            "You should consider upgrading via the '/opt/conda/bin/python3.7 -m pip install --upgrade pip' command.\u001b[0m\r\n",
            "\u001b[33mWARNING: You are using pip version 20.3.1; however, version 20.3.3 is available.\r\n",
            "You should consider upgrading via the '/opt/conda/bin/python3.7 -m pip install --upgrade pip' command.\u001b[0m\r\n",
            "\u001b[33mWARNING: You are using pip version 20.3.1; however, version 20.3.3 is available.\r\n",
            "You should consider upgrading via the '/opt/conda/bin/python3.7 -m pip install --upgrade pip' command.\u001b[0m\r\n"
          ],
          "name": "stdout"
        }
      ]
    },
    {
      "cell_type": "code",
      "metadata": {
        "execution": {
          "iopub.execute_input": "2020-12-26T11:19:47.982004Z",
          "iopub.status.busy": "2020-12-26T11:19:47.981158Z",
          "iopub.status.idle": "2020-12-26T11:19:51.207216Z",
          "shell.execute_reply": "2020-12-26T11:19:51.206626Z"
        },
        "id": "zBkoZFfoV9Ql",
        "papermill": {
          "duration": 3.246033,
          "end_time": "2020-12-26T11:19:51.207346",
          "exception": false,
          "start_time": "2020-12-26T11:19:47.961313",
          "status": "completed"
        },
        "tags": []
      },
      "source": [
        "# ==== Import Libraries\n",
        "\n",
        "import pandas as pd\n",
        "import numpy as np\n",
        "\n",
        "import torch\n",
        "import torch.nn.functional as F\n",
        "import torch.nn as nn\n",
        "import seaborn as sns\n",
        "import random\n",
        "import os\n",
        "\n",
        "\n",
        "import albumentations as aug\n",
        "from albumentations.pytorch.transforms import ToTensor\n",
        "import matplotlib.pyplot as plt\n",
        "\n",
        "from efficientnet_pytorch import EfficientNet\n",
        "from tqdm import tqdm\n",
        "\n",
        "from sklearn.metrics import accuracy_score\n",
        "from torch.utils.data import Dataset,DataLoader\n",
        "from torch.optim.lr_scheduler import ReduceLROnPlateau\n",
        "\n",
        "import warnings\n",
        "warnings.filterwarnings(\"ignore\") \n",
        "warnings.filterwarnings(\"ignore\", category=DeprecationWarning) \n",
        "\n",
        "from pytorch_ranger import Ranger"
      ],
      "execution_count": null,
      "outputs": []
    },
    {
      "cell_type": "markdown",
      "metadata": {
        "id": "wdNEttTexy7_"
      },
      "source": [
        "#Data Loader and Model optimizers"
      ]
    },
    {
      "cell_type": "code",
      "metadata": {
        "id": "-OpdNPwrxxtC"
      },
      "source": [
        "dataset    = Cloader(image_path,targets,resize=None,transforms=None)\r\n",
        "\"\"\" returns {'image':tensor_image,'targets':tensor_labels} \"\"\"\r\n",
        "dataloader = DataLoader(dataset,batch_size=64\r\n",
        "                                     ,shuffle=True,num_workers=4)\r\n",
        "                                     \r\n",
        "\"\"\" using next(iter(dataloader)) returns a dictionary with keys 'image'\r\n",
        " and 'targets'.\"\"\""
      ],
      "execution_count": null,
      "outputs": []
    },
    {
      "cell_type": "code",
      "metadata": {
        "id": "5HThsTA1x6Mn"
      },
      "source": [
        "es = EarlyStop(patience=7, mode=\"max\", delta=0.0001) \r\n",
        "\r\n",
        "\"\"\" Sample code \"\"\"\r\n",
        "for epoch in range(epochs):\r\n",
        "    epoch_score = Trainer.evaluate(......)\r\n",
        "    es(epoch_score , model , model_path =\"./best.pth\")\r\n",
        "    \"\"\" model_path is the location+filename to save the best model \"\"\"\r\n",
        "    if es.early_stop=True:\r\n",
        "\t    break\r\n",
        "\r\n",
        "es.reset()  \"\"\" resets the best_epoch_score, if in case training multiple\r\n",
        "                folds without creating 'es' object again and again.\"\"\""
      ],
      "execution_count": null,
      "outputs": []
    },
    {
      "cell_type": "code",
      "metadata": {
        "id": "jyMal3LVyUcP"
      },
      "source": [
        "trainer        = Trainer(model,optimizer,device,train_scheduler = None,\r\n",
        "                 val_scheduler = None,accumulation_steps=1,fp16=False,\r\n",
        "                use_mean_loss=False,checkpoint=None,save_path = \"./\")\r\n",
        "                \r\n",
        "\"\"\" Training and Evaluating \"\"\"\r\n",
        "train_loss              = trainer.train(train_dataloader)\r\n",
        "y_true ,y_pred,val_loss = trainer.evaluate(val_dataloader)\r\n",
        "\r\n",
        "\"\"\" Prediction \"\"\"\r\n",
        "y_preds                 = trainer.predict(test_dataloader)  \r\n",
        "\r\n",
        "\"\"\" In depths \"\"\"\r\n",
        "\"\"\" train_scheduler/val_scheduler : call scheduler.step() while training\r\n",
        "                                    or after validating\r\n",
        "    accumulation_step             : implements gradient accumulation \r\n",
        "                                    (default = 1)\r\n",
        "    fp16                          : mixed precision training\r\n",
        "    use_mean_loss                 : loss.mean().backward()\r\n",
        "                                    (false if loss is already meaned)\r\n",
        "    checkpoint                    : torch.load(checkpoint),loads the \r\n",
        "                                    checkpoint and resumes training.\r\n",
        "    save_path                     : location to save the last epoch \r\n",
        "                                    weights                             \"\"\"\r\n",
        "\r\n",
        "\"\"\" Having problem with non resumable training epochs? \"\"\"    \r\n",
        "trainer.saver()  \"\"\" saves the last epoch to the save_path location \"\"\"\r\n",
        "\r\n",
        "\"\"\" dataloader must be set in the same state to resume training \r\n",
        "Use [https://gist.github.com/usamec/1b3b4dcbafad2d58faa71a9633eea6a5]\r\n",
        "an implementation of ResumableRandomSampler()  \"\"\"\r\n",
        "\r\n",
        "sampler = ResumableRandomSampler(dataset)\r\n",
        "loader  = DataLoader(dataset, batch_size=64, sampler=sampler)\r\n",
        "torch.save(sampler.get_state(), \"test_samp.pth\") -- save the state\r\n",
        "sampler.set_state(torch.load(\"test_samp.pth\"))  -- load and set the state\r\n",
        "\r\n",
        "\"\"\" and tadaa , resume training 100 % :) \"\"\""
      ],
      "execution_count": null,
      "outputs": []
    },
    {
      "cell_type": "code",
      "metadata": {
        "id": "rE2_D3jkyYaG"
      },
      "source": [
        "logger   = Logger(path=\"./\")  \"\"\" save path for logger\"\"\"\r\n",
        "logger.write( message ,verbose = 1) \"\"\" verbose to print the message\"\"\"\r\n",
        "\r\n",
        "\"\"\" Helps Keep Track of Training \"\"\""
      ],
      "execution_count": null,
      "outputs": []
    },
    {
      "cell_type": "code",
      "metadata": {
        "id": "YC8m4ERhya8Z"
      },
      "source": [
        "saver    = Saver(path=\"./\" , mode = \"max\")\r\n",
        "\"\"\" saves the model, optimizer and scheduler based on score and mode \"\"\"\r\n",
        "\r\n",
        "saver.save(model,optimizer,scheduler,metric)"
      ],
      "execution_count": null,
      "outputs": []
    },
    {
      "cell_type": "code",
      "metadata": {
        "id": "8RGV9XKvyeFc"
      },
      "source": [
        "class Net(nn.Module):\r\n",
        "    def __init__(self):\r\n",
        "        super(Net, self).__init__()\r\n",
        "        self.base_model = timm.create_model('resnet18',pretrained=True,num_classes=1)\r\n",
        "    def forward(self, image, targets):\r\n",
        "        batch_size, _, _, _ = image.shape\r\n",
        "        out = self.base_model(image)\r\n",
        "        loss = nn.BCEWithLogitsLoss()(out.view(batch_size,), targets.type_as(out))\r\n",
        "        return out, loss"
      ],
      "execution_count": null,
      "outputs": []
    },
    {
      "cell_type": "code",
      "metadata": {
        "execution": {
          "iopub.execute_input": "2020-12-26T11:19:51.237051Z",
          "iopub.status.busy": "2020-12-26T11:19:51.236345Z",
          "iopub.status.idle": "2020-12-26T11:19:51.243084Z",
          "shell.execute_reply": "2020-12-26T11:19:51.242553Z"
        },
        "id": "Rm4HaTGDWE_g",
        "papermill": {
          "duration": 0.024357,
          "end_time": "2020-12-26T11:19:51.243172",
          "exception": false,
          "start_time": "2020-12-26T11:19:51.218815",
          "status": "completed"
        },
        "tags": []
      },
      "source": [
        "SEED = 42\n",
        "def seed_everything(seed):\n",
        "    random.seed(seed)\n",
        "    os.environ['PYTHONHASHSEED'] = str(seed)\n",
        "    np.random.seed(seed)\n",
        "    torch.manual_seed(seed)\n",
        "    torch.cuda.manual_seed(seed)\n",
        "    torch.backends.cudnn.deterministic = True\n",
        "    torch.backends.cudnn.benchmark = True\n",
        "\n",
        "seed_everything(SEED)"
      ],
      "execution_count": null,
      "outputs": []
    },
    {
      "cell_type": "code",
      "metadata": {
        "execution": {
          "iopub.execute_input": "2020-12-26T11:19:51.274282Z",
          "iopub.status.busy": "2020-12-26T11:19:51.273710Z",
          "iopub.status.idle": "2020-12-26T11:19:51.322568Z",
          "shell.execute_reply": "2020-12-26T11:19:51.323040Z"
        },
        "id": "l89fK9ke3VKh",
        "papermill": {
          "duration": 0.069,
          "end_time": "2020-12-26T11:19:51.323149",
          "exception": false,
          "start_time": "2020-12-26T11:19:51.254149",
          "status": "completed"
        },
        "tags": [],
        "outputId": "6faf3ae3-18b8-4c09-90c5-f803d4935b32"
      },
      "source": [
        "X_train = pd.read_csv('../input/pnemonia/train.csv')\n",
        "X_train.sample(frac=1).reset_index(drop=True)\n",
        "X_val   = pd.read_csv('../input/pnemonia/val (1).csv')\n",
        "X_val.sample(frac=1).reset_index(drop=True)"
      ],
      "execution_count": null,
      "outputs": [
        {
          "output_type": "execute_result",
          "data": {
            "text/html": [
              "<div>\n",
              "<style scoped>\n",
              "    .dataframe tbody tr th:only-of-type {\n",
              "        vertical-align: middle;\n",
              "    }\n",
              "\n",
              "    .dataframe tbody tr th {\n",
              "        vertical-align: top;\n",
              "    }\n",
              "\n",
              "    .dataframe thead th {\n",
              "        text-align: right;\n",
              "    }\n",
              "</style>\n",
              "<table border=\"1\" class=\"dataframe\">\n",
              "  <thead>\n",
              "    <tr style=\"text-align: right;\">\n",
              "      <th></th>\n",
              "      <th>image_id</th>\n",
              "      <th>label</th>\n",
              "    </tr>\n",
              "  </thead>\n",
              "  <tbody>\n",
              "    <tr>\n",
              "      <th>0</th>\n",
              "      <td>../input/chest-xray-pneumonia/chest_xray/test/...</td>\n",
              "      <td>1</td>\n",
              "    </tr>\n",
              "    <tr>\n",
              "      <th>1</th>\n",
              "      <td>../input/chest-xray-pneumonia/chest_xray/test/...</td>\n",
              "      <td>1</td>\n",
              "    </tr>\n",
              "    <tr>\n",
              "      <th>2</th>\n",
              "      <td>../input/chest-xray-pneumonia/chest_xray/test/...</td>\n",
              "      <td>1</td>\n",
              "    </tr>\n",
              "    <tr>\n",
              "      <th>3</th>\n",
              "      <td>../input/chest-xray-pneumonia/chest_xray/test/...</td>\n",
              "      <td>1</td>\n",
              "    </tr>\n",
              "    <tr>\n",
              "      <th>4</th>\n",
              "      <td>../input/chest-xray-pneumonia/chest_xray/test/...</td>\n",
              "      <td>1</td>\n",
              "    </tr>\n",
              "    <tr>\n",
              "      <th>...</th>\n",
              "      <td>...</td>\n",
              "      <td>...</td>\n",
              "    </tr>\n",
              "    <tr>\n",
              "      <th>619</th>\n",
              "      <td>../input/chest-xray-pneumonia/chest_xray/test/...</td>\n",
              "      <td>0</td>\n",
              "    </tr>\n",
              "    <tr>\n",
              "      <th>620</th>\n",
              "      <td>../input/chest-xray-pneumonia/chest_xray/test/...</td>\n",
              "      <td>1</td>\n",
              "    </tr>\n",
              "    <tr>\n",
              "      <th>621</th>\n",
              "      <td>../input/chest-xray-pneumonia/chest_xray/test/...</td>\n",
              "      <td>1</td>\n",
              "    </tr>\n",
              "    <tr>\n",
              "      <th>622</th>\n",
              "      <td>../input/chest-xray-pneumonia/chest_xray/test/...</td>\n",
              "      <td>1</td>\n",
              "    </tr>\n",
              "    <tr>\n",
              "      <th>623</th>\n",
              "      <td>../input/chest-xray-pneumonia/chest_xray/test/...</td>\n",
              "      <td>0</td>\n",
              "    </tr>\n",
              "  </tbody>\n",
              "</table>\n",
              "<p>624 rows × 2 columns</p>\n",
              "</div>"
            ],
            "text/plain": [
              "                                              image_id  label\n",
              "0    ../input/chest-xray-pneumonia/chest_xray/test/...      1\n",
              "1    ../input/chest-xray-pneumonia/chest_xray/test/...      1\n",
              "2    ../input/chest-xray-pneumonia/chest_xray/test/...      1\n",
              "3    ../input/chest-xray-pneumonia/chest_xray/test/...      1\n",
              "4    ../input/chest-xray-pneumonia/chest_xray/test/...      1\n",
              "..                                                 ...    ...\n",
              "619  ../input/chest-xray-pneumonia/chest_xray/test/...      0\n",
              "620  ../input/chest-xray-pneumonia/chest_xray/test/...      1\n",
              "621  ../input/chest-xray-pneumonia/chest_xray/test/...      1\n",
              "622  ../input/chest-xray-pneumonia/chest_xray/test/...      1\n",
              "623  ../input/chest-xray-pneumonia/chest_xray/test/...      0\n",
              "\n",
              "[624 rows x 2 columns]"
            ]
          },
          "metadata": {
            "tags": []
          },
          "execution_count": 4
        }
      ]
    },
    {
      "cell_type": "code",
      "metadata": {
        "execution": {
          "iopub.execute_input": "2020-12-26T11:19:51.357512Z",
          "iopub.status.busy": "2020-12-26T11:19:51.356843Z",
          "iopub.status.idle": "2020-12-26T11:19:51.360324Z",
          "shell.execute_reply": "2020-12-26T11:19:51.360814Z"
        },
        "papermill": {
          "duration": 0.026132,
          "end_time": "2020-12-26T11:19:51.360921",
          "exception": false,
          "start_time": "2020-12-26T11:19:51.334789",
          "status": "completed"
        },
        "tags": [],
        "id": "-V4hOmoo0N3V",
        "outputId": "35c80616-1498-4a47-b340-8e6d4b72c5bc"
      },
      "source": [
        "X_train"
      ],
      "execution_count": null,
      "outputs": [
        {
          "output_type": "execute_result",
          "data": {
            "text/html": [
              "<div>\n",
              "<style scoped>\n",
              "    .dataframe tbody tr th:only-of-type {\n",
              "        vertical-align: middle;\n",
              "    }\n",
              "\n",
              "    .dataframe tbody tr th {\n",
              "        vertical-align: top;\n",
              "    }\n",
              "\n",
              "    .dataframe thead th {\n",
              "        text-align: right;\n",
              "    }\n",
              "</style>\n",
              "<table border=\"1\" class=\"dataframe\">\n",
              "  <thead>\n",
              "    <tr style=\"text-align: right;\">\n",
              "      <th></th>\n",
              "      <th>image_id</th>\n",
              "      <th>label</th>\n",
              "    </tr>\n",
              "  </thead>\n",
              "  <tbody>\n",
              "    <tr>\n",
              "      <th>0</th>\n",
              "      <td>../input/chest-xray-pneumonia/chest_xray/train...</td>\n",
              "      <td>1</td>\n",
              "    </tr>\n",
              "    <tr>\n",
              "      <th>1</th>\n",
              "      <td>../input/chest-xray-pneumonia/chest_xray/train...</td>\n",
              "      <td>1</td>\n",
              "    </tr>\n",
              "    <tr>\n",
              "      <th>2</th>\n",
              "      <td>../input/chest-xray-pneumonia/chest_xray/train...</td>\n",
              "      <td>1</td>\n",
              "    </tr>\n",
              "    <tr>\n",
              "      <th>3</th>\n",
              "      <td>../input/chest-xray-pneumonia/chest_xray/train...</td>\n",
              "      <td>1</td>\n",
              "    </tr>\n",
              "    <tr>\n",
              "      <th>4</th>\n",
              "      <td>../input/chest-xray-pneumonia/chest_xray/train...</td>\n",
              "      <td>1</td>\n",
              "    </tr>\n",
              "    <tr>\n",
              "      <th>...</th>\n",
              "      <td>...</td>\n",
              "      <td>...</td>\n",
              "    </tr>\n",
              "    <tr>\n",
              "      <th>5211</th>\n",
              "      <td>../input/chest-xray-pneumonia/chest_xray/train...</td>\n",
              "      <td>0</td>\n",
              "    </tr>\n",
              "    <tr>\n",
              "      <th>5212</th>\n",
              "      <td>../input/chest-xray-pneumonia/chest_xray/train...</td>\n",
              "      <td>0</td>\n",
              "    </tr>\n",
              "    <tr>\n",
              "      <th>5213</th>\n",
              "      <td>../input/chest-xray-pneumonia/chest_xray/train...</td>\n",
              "      <td>0</td>\n",
              "    </tr>\n",
              "    <tr>\n",
              "      <th>5214</th>\n",
              "      <td>../input/chest-xray-pneumonia/chest_xray/train...</td>\n",
              "      <td>0</td>\n",
              "    </tr>\n",
              "    <tr>\n",
              "      <th>5215</th>\n",
              "      <td>../input/chest-xray-pneumonia/chest_xray/train...</td>\n",
              "      <td>0</td>\n",
              "    </tr>\n",
              "  </tbody>\n",
              "</table>\n",
              "<p>5216 rows × 2 columns</p>\n",
              "</div>"
            ],
            "text/plain": [
              "                                               image_id  label\n",
              "0     ../input/chest-xray-pneumonia/chest_xray/train...      1\n",
              "1     ../input/chest-xray-pneumonia/chest_xray/train...      1\n",
              "2     ../input/chest-xray-pneumonia/chest_xray/train...      1\n",
              "3     ../input/chest-xray-pneumonia/chest_xray/train...      1\n",
              "4     ../input/chest-xray-pneumonia/chest_xray/train...      1\n",
              "...                                                 ...    ...\n",
              "5211  ../input/chest-xray-pneumonia/chest_xray/train...      0\n",
              "5212  ../input/chest-xray-pneumonia/chest_xray/train...      0\n",
              "5213  ../input/chest-xray-pneumonia/chest_xray/train...      0\n",
              "5214  ../input/chest-xray-pneumonia/chest_xray/train...      0\n",
              "5215  ../input/chest-xray-pneumonia/chest_xray/train...      0\n",
              "\n",
              "[5216 rows x 2 columns]"
            ]
          },
          "metadata": {
            "tags": []
          },
          "execution_count": 5
        }
      ]
    },
    {
      "cell_type": "code",
      "metadata": {
        "execution": {
          "iopub.execute_input": "2020-12-26T11:19:51.394099Z",
          "iopub.status.busy": "2020-12-26T11:19:51.393212Z",
          "iopub.status.idle": "2020-12-26T11:19:51.397816Z",
          "shell.execute_reply": "2020-12-26T11:19:51.398397Z"
        },
        "id": "g7O7zshOwqHq",
        "papermill": {
          "duration": 0.025283,
          "end_time": "2020-12-26T11:19:51.398505",
          "exception": false,
          "start_time": "2020-12-26T11:19:51.373222",
          "status": "completed"
        },
        "tags": []
      },
      "source": [
        "# ===== Augmentations\n",
        "\n",
        "mean       = (0.485, 0.456, 0.406)\n",
        "std        = (0.229, 0.224, 0.225)\n",
        "train_tfms = aug.Compose([\n",
        "            aug.Resize(224,224),\n",
        "            aug.HorizontalFlip(p=0.5),\n",
        "            aug.RandomBrightnessContrast(0.1,0.1),\n",
        "            aug.ShiftScaleRotate(rotate_limit=(-45,45)),\n",
        "            aug.GaussNoise(p=0.35),\n",
        "            aug.IAASharpen(),\n",
        "            aug.Normalize(mean,std,max_pixel_value=255.0,always_apply=True),\n",
        "            ])\n",
        "\n",
        "test_tfms  = aug.Compose([\n",
        "            aug.Resize(224,224),\n",
        "            aug.Normalize(mean,std,max_pixel_value=255.0,always_apply=True),\n",
        "            ])"
      ],
      "execution_count": null,
      "outputs": []
    },
    {
      "cell_type": "code",
      "metadata": {
        "execution": {
          "iopub.execute_input": "2020-12-26T11:19:51.436102Z",
          "iopub.status.busy": "2020-12-26T11:19:51.435359Z",
          "iopub.status.idle": "2020-12-26T11:19:51.440341Z",
          "shell.execute_reply": "2020-12-26T11:19:51.439752Z"
        },
        "papermill": {
          "duration": 0.029279,
          "end_time": "2020-12-26T11:19:51.440463",
          "exception": false,
          "start_time": "2020-12-26T11:19:51.411184",
          "status": "completed"
        },
        "tags": [],
        "id": "on7eDa_90N3W"
      },
      "source": [
        "import numpy as np\n",
        "from PIL import Image\n",
        "from PIL import ImageFile   #ImageFile contains support for PIL to open and save images\n",
        "ImageFile.LOAD_TRUNCATED_IMAGES=True  #If image is truncated(or corrupt) then also load it..\n",
        "import torch\n",
        "\n",
        "class Cloader:\n",
        "    def __init__(self,image_path,targets,resize=None,transforms=None):\n",
        "        self.image_path=image_path\n",
        "        self.targets=targets\n",
        "        self.resize=resize\n",
        "        self.transforms=transforms\n",
        "        \n",
        "    def __len__(self):\n",
        "        return len(self.image_path)\n",
        "    \n",
        "    def __getitem__(self,idx):\n",
        "        image = Image.open(self.image_path[idx]).convert(\"RGB\")\n",
        "        targets = self.targets[idx]\n",
        "        if self.resize is not None:\n",
        "            image = image.resize(\n",
        "                (self.resize[1], self.resize[0]), resample=Image.BILINEAR\n",
        "            )\n",
        "        image = np.array(image)\n",
        "        if self.transforms is not None:\n",
        "            augmented = self.transforms(image=image)\n",
        "            image = augmented[\"image\"]\n",
        "        image = np.transpose(image, (2, 0, 1)).astype(np.float32)\n",
        "        return {\n",
        "            \"image\": torch.tensor(image, dtype=torch.float),\n",
        "            \"targets\": torch.tensor(targets, dtype=torch.long),\n",
        "        }"
      ],
      "execution_count": null,
      "outputs": []
    },
    {
      "cell_type": "code",
      "metadata": {
        "execution": {
          "iopub.execute_input": "2020-12-26T11:19:51.822711Z",
          "iopub.status.busy": "2020-12-26T11:19:51.821930Z",
          "iopub.status.idle": "2020-12-26T11:19:51.827278Z",
          "shell.execute_reply": "2020-12-26T11:19:51.826672Z"
        },
        "id": "e6Id2x5Ww9dv",
        "papermill": {
          "duration": 0.374211,
          "end_time": "2020-12-26T11:19:51.827398",
          "exception": false,
          "start_time": "2020-12-26T11:19:51.453187",
          "status": "completed"
        },
        "tags": [],
        "outputId": "59a2b36f-a243-4159-c9ea-e52b674c28a9"
      },
      "source": [
        "train_images     = X_train.image_id.values.tolist()\n",
        "\n",
        "test_images      = X_val.image_id.values.tolist()\n",
        "\n",
        "train_dataset    = Cloader(train_images,X_train.label.values,None,train_tfms)\n",
        "test_dataset     = Cloader(test_images,X_val.label.values,None,test_tfms)\n",
        "\n",
        "train_dataloader = DataLoader(train_dataset,batch_size=32,shuffle=True,num_workers=4)\n",
        "val_dataloader   = DataLoader(test_dataset,batch_size=32,shuffle=False,num_workers=4)\n",
        "\n",
        "device           = torch.device(\"cuda\" if torch.cuda.is_available() else \"cpu\")\n",
        "device"
      ],
      "execution_count": null,
      "outputs": [
        {
          "output_type": "execute_result",
          "data": {
            "text/plain": [
              "device(type='cuda')"
            ]
          },
          "metadata": {
            "tags": []
          },
          "execution_count": 8
        }
      ]
    },
    {
      "cell_type": "code",
      "metadata": {
        "execution": {
          "iopub.execute_input": "2020-12-26T11:19:51.862530Z",
          "iopub.status.busy": "2020-12-26T11:19:51.861873Z",
          "iopub.status.idle": "2020-12-26T11:19:56.770541Z",
          "shell.execute_reply": "2020-12-26T11:19:56.769338Z"
        },
        "id": "vhsevNVywpwy",
        "papermill": {
          "duration": 4.929821,
          "end_time": "2020-12-26T11:19:56.770665",
          "exception": false,
          "start_time": "2020-12-26T11:19:51.840844",
          "status": "completed"
        },
        "tags": [],
        "outputId": "5f2038fe-56b1-4fbd-8f35-66baf9435f91",
        "colab": {
          "referenced_widgets": [
            "18948df4eaaa4a98b82a559a1326cb52"
          ]
        }
      },
      "source": [
        "# ===== Define model\n",
        "\n",
        "class Net(nn.Module):\n",
        "    def __init__(self):\n",
        "        super(Net, self).__init__()\n",
        "        self.base_model = EfficientNet.from_pretrained('efficientnet-b0',num_classes=2)\n",
        "    def forward(self, image, targets):\n",
        "        batch_size, _, _, _ = image.shape\n",
        "        out = self.base_model(image)\n",
        "        targets = torch.tensor(targets,dtype=torch.int64)\n",
        "        loss = nn.CrossEntropyLoss()(out.view(batch_size,2), targets)\n",
        "        return out, loss\n",
        "\n",
        "model = Net()\n",
        "model.to(device);"
      ],
      "execution_count": null,
      "outputs": [
        {
          "output_type": "stream",
          "text": [
            "Downloading: \"https://github.com/lukemelas/EfficientNet-PyTorch/releases/download/1.0/efficientnet-b0-355c32eb.pth\" to /root/.cache/torch/hub/checkpoints/efficientnet-b0-355c32eb.pth\n"
          ],
          "name": "stderr"
        },
        {
          "output_type": "display_data",
          "data": {
            "application/vnd.jupyter.widget-view+json": {
              "model_id": "18948df4eaaa4a98b82a559a1326cb52",
              "version_major": 2,
              "version_minor": 0
            },
            "text/plain": [
              "HBox(children=(FloatProgress(value=0.0, max=21388428.0), HTML(value='')))"
            ]
          },
          "metadata": {
            "tags": []
          }
        },
        {
          "output_type": "stream",
          "text": [
            "\n",
            "Loaded pretrained weights for efficientnet-b0\n"
          ],
          "name": "stdout"
        }
      ]
    },
    {
      "cell_type": "code",
      "metadata": {
        "execution": {
          "iopub.execute_input": "2020-12-26T11:19:56.806677Z",
          "iopub.status.busy": "2020-12-26T11:19:56.805788Z",
          "iopub.status.idle": "2020-12-26T11:19:56.808571Z",
          "shell.execute_reply": "2020-12-26T11:19:56.808084Z"
        },
        "id": "tKAeGJTXkpIE",
        "papermill": {
          "duration": 0.022824,
          "end_time": "2020-12-26T11:19:56.808670",
          "exception": false,
          "start_time": "2020-12-26T11:19:56.785846",
          "status": "completed"
        },
        "tags": []
      },
      "source": [
        "def softmax(array):\n",
        "    return np.exp(array)/np.sum(np.exp(array),axis=1).reshape(-1,1)"
      ],
      "execution_count": null,
      "outputs": []
    },
    {
      "cell_type": "code",
      "metadata": {
        "execution": {
          "iopub.execute_input": "2020-12-26T11:19:56.848442Z",
          "iopub.status.busy": "2020-12-26T11:19:56.846168Z",
          "iopub.status.idle": "2020-12-26T11:19:56.851036Z",
          "shell.execute_reply": "2020-12-26T11:19:56.850448Z"
        },
        "id": "WBbO8bx977AG",
        "papermill": {
          "duration": 0.027481,
          "end_time": "2020-12-26T11:19:56.851124",
          "exception": false,
          "start_time": "2020-12-26T11:19:56.823643",
          "status": "completed"
        },
        "tags": []
      },
      "source": [
        "optimizer = Ranger(model.parameters(),lr=1e-4)\n",
        "scheduler = ReduceLROnPlateau(optimizer,factor=0.8, mode=\"min\", patience=2)\n",
        "\n",
        "trainer   = Trainer(model=model,optimizer=optimizer,device=device,val_scheduler=scheduler)\n",
        "logger    = Logger()"
      ],
      "execution_count": null,
      "outputs": []
    },
    {
      "cell_type": "code",
      "metadata": {
        "execution": {
          "iopub.execute_input": "2020-12-26T11:19:56.889150Z",
          "iopub.status.busy": "2020-12-26T11:19:56.888331Z",
          "iopub.status.idle": "2020-12-26T12:05:16.538864Z",
          "shell.execute_reply": "2020-12-26T12:05:16.539653Z"
        },
        "id": "T4DrDWxmh8Mg",
        "papermill": {
          "duration": 2719.673744,
          "end_time": "2020-12-26T12:05:16.539836",
          "exception": false,
          "start_time": "2020-12-26T11:19:56.866092",
          "status": "completed"
        },
        "tags": [],
        "outputId": "b4e10d96-6b79-40b5-ddbd-72ed3f9d1bef",
        "colab": {
          "referenced_widgets": [
            "4d0534acffba43efb4d1e7e46fd38d3b",
            "2597fd363f14492da08c95df7f3cd530",
            "d7374f2fa6fa4922aa584f5a36f453ac",
            "336e4c880d5f471aad7f5e6da53e2ab9",
            "d12517a620334414bcc41ba06052766d",
            "3b0c371e20534231a3d810884f86ce02",
            "2eaf59a166c448dd8e12da2d9e218ddd",
            "e319cf3a248241f8aa74cca5a4f54a13",
            "ebf620be859f48bbbfb05d3a7f0d1202",
            "4db5a717712b482dbbcc4e0149372f9d",
            "ff237bee2e1b4592af622b56f4ff60c0",
            "a0f1dc97b89445f484a06dee572d96a9",
            "f12ce75c4fd049f29d9079022b1a936a",
            "7d00aa8ba5c4484ea203e984ffa71f52",
            "4feaec7a5f8943ae81c8aa0c035a76c6",
            "d2855baaa66c4dd18035514fc462484c",
            "d0435ad3518245a7b67f817102604cb3",
            "2922ed221e884d90a5e63e73593dd38b",
            "5c72ced8feaa42d9af79f283f475cd1f",
            "1b7d3cb2b0524fb7ba017776af9e2ea3",
            "55622e2d7cea402ea2a468fdc6a2a9b5",
            "e362946d03b142c89cce57632b060c41",
            "143d4024e8d94df599573290ad7687bf",
            "835dcec9915f4e0c8b8941fe97e40a68",
            "75045da3bd6b4a54a294da1d5e7cdea8",
            "6db8560902cc45f6826905c52c9d05d2",
            "42cdb5f9d39a42da9fbf30e62faa5fe2",
            "852b710529814dd0b81fe858caa5491a",
            "2437c47316364be692d056a7c9929903",
            "da0b2f95c91149adb30e42860e4ed194",
            "013c657d2a3e4a48a5cf70ad4693706c",
            "8fead3de52d84159a05f9ad76160c1c5",
            "449681f862ae4434b444c91ad1ec7b79",
            "6d77dc44f1444cc4825222e9eb27d54d",
            "f5f21316af7b4530b72980fd9af5bc76",
            "7f7412fe572b4e99a7b66f4650bdd6a8",
            "874a892425ad4a6cbb85047a824017d1",
            "949f00ff05174265ad19f79ac06beb91",
            "0d5d0caf577c4e37a56b8b8897df951e",
            "3572ebec1c2e4ad1b23386797399456a",
            "e55caead58774eefb1299c4f5fd634ba",
            "1556a2be236e4af68891d707e56f5203",
            "a14a415b69a94586b2bbd9dafc1164e3",
            "2c1610b4399449759d4be8a976917cd5",
            "7b8816d659be4f47930ebdbf8b5ebde4",
            "9995fdaf559444c184d0aece7d6bd189",
            "d19a7ef94d9a407c8ccf1435d4f51e42",
            "08daa25e8da847d49691d36fd2cc7610",
            "b4ff5a9c9a9947088cb086672902596b",
            "ad65d46530854083a89e4b9be357183f",
            "973cab80433a4a97a19667ca5297e2b7",
            "5cb88fe52f454a9b959dc7d73c735f53",
            "45503707148449a4b3c185306198ad66",
            "af03c653a9a14f7694f3fb2d5c9da926",
            "a49832a1b009405b81bafc3411c72162",
            "6c3dfda74bd5493baee6c182282c1f6d",
            "4e69a459ed4d47dd81e3719172775927",
            "b55dc12d9476460fb9bce249fce877af",
            "62a2ff11ddff4fc5b89661a2f3fdb1b1",
            "87ffc0ed3d0145a2aadb4b6a16f4eecf"
          ]
        }
      },
      "source": [
        "epochs = 30\n",
        "best_loss = np.Inf\n",
        "for epoch in range(epochs):\n",
        "    logger.write(f\"+ ===== Epoch {epoch+1}/{epochs} ===== +\")\n",
        "    train_loss              = trainer.train(train_dataloader)\n",
        "    y_true,y_pred ,val_loss = trainer.evaluate(val_dataloader)\n",
        "    y_pred                  = softmax(y_pred)\n",
        "    accuracy                = accuracy_score(y_true,np.argmax(y_pred,axis=1))\n",
        "    logger.write(f\"train_loss {train_loss} val_loss {val_loss} \")\n",
        "    logger.write(f\"val accuracy_score {accuracy} \")\n",
        "    logger.write(\" \")\n",
        "    if val_loss < best_loss:\n",
        "        best_loss = val_loss\n",
        "        torch.save(model.state_dict(),'best.pth')\n"
      ],
      "execution_count": null,
      "outputs": [
        {
          "output_type": "stream",
          "text": [
            "+ ===== Epoch 1/30 ===== +\n"
          ],
          "name": "stdout"
        },
        {
          "output_type": "display_data",
          "data": {
            "application/vnd.jupyter.widget-view+json": {
              "model_id": "4d0534acffba43efb4d1e7e46fd38d3b",
              "version_major": 2,
              "version_minor": 0
            },
            "text/plain": [
              "HBox(children=(FloatProgress(value=0.0, max=163.0), HTML(value='')))"
            ]
          },
          "metadata": {
            "tags": []
          }
        },
        {
          "output_type": "stream",
          "text": [
            "\n"
          ],
          "name": "stdout"
        },
        {
          "output_type": "display_data",
          "data": {
            "application/vnd.jupyter.widget-view+json": {
              "model_id": "2597fd363f14492da08c95df7f3cd530",
              "version_major": 2,
              "version_minor": 0
            },
            "text/plain": [
              "HBox(children=(FloatProgress(value=0.0, max=20.0), HTML(value='')))"
            ]
          },
          "metadata": {
            "tags": []
          }
        },
        {
          "output_type": "stream",
          "text": [
            "\n",
            "train_loss 0.6338608051004584 val_loss 0.5110404878854751 \n",
            "val accuracy_score 0.8525641025641025 \n",
            " \n",
            "+ ===== Epoch 2/30 ===== +\n"
          ],
          "name": "stdout"
        },
        {
          "output_type": "display_data",
          "data": {
            "application/vnd.jupyter.widget-view+json": {
              "model_id": "d7374f2fa6fa4922aa584f5a36f453ac",
              "version_major": 2,
              "version_minor": 0
            },
            "text/plain": [
              "HBox(children=(FloatProgress(value=0.0, max=163.0), HTML(value='')))"
            ]
          },
          "metadata": {
            "tags": []
          }
        },
        {
          "output_type": "stream",
          "text": [
            "\n"
          ],
          "name": "stdout"
        },
        {
          "output_type": "display_data",
          "data": {
            "application/vnd.jupyter.widget-view+json": {
              "model_id": "336e4c880d5f471aad7f5e6da53e2ab9",
              "version_major": 2,
              "version_minor": 0
            },
            "text/plain": [
              "HBox(children=(FloatProgress(value=0.0, max=20.0), HTML(value='')))"
            ]
          },
          "metadata": {
            "tags": []
          }
        },
        {
          "output_type": "stream",
          "text": [
            "\n",
            "train_loss 0.3767538220604503 val_loss 0.3118230486288666 \n",
            "val accuracy_score 0.8717948717948718 \n",
            " \n",
            "+ ===== Epoch 3/30 ===== +\n"
          ],
          "name": "stdout"
        },
        {
          "output_type": "display_data",
          "data": {
            "application/vnd.jupyter.widget-view+json": {
              "model_id": "d12517a620334414bcc41ba06052766d",
              "version_major": 2,
              "version_minor": 0
            },
            "text/plain": [
              "HBox(children=(FloatProgress(value=0.0, max=163.0), HTML(value='')))"
            ]
          },
          "metadata": {
            "tags": []
          }
        },
        {
          "output_type": "stream",
          "text": [
            "\n"
          ],
          "name": "stdout"
        },
        {
          "output_type": "display_data",
          "data": {
            "application/vnd.jupyter.widget-view+json": {
              "model_id": "3b0c371e20534231a3d810884f86ce02",
              "version_major": 2,
              "version_minor": 0
            },
            "text/plain": [
              "HBox(children=(FloatProgress(value=0.0, max=20.0), HTML(value='')))"
            ]
          },
          "metadata": {
            "tags": []
          }
        },
        {
          "output_type": "stream",
          "text": [
            "\n",
            "train_loss 0.20477609126114407 val_loss 0.3700940219685436 \n",
            "val accuracy_score 0.8685897435897436 \n",
            " \n",
            "+ ===== Epoch 4/30 ===== +\n"
          ],
          "name": "stdout"
        },
        {
          "output_type": "display_data",
          "data": {
            "application/vnd.jupyter.widget-view+json": {
              "model_id": "2eaf59a166c448dd8e12da2d9e218ddd",
              "version_major": 2,
              "version_minor": 0
            },
            "text/plain": [
              "HBox(children=(FloatProgress(value=0.0, max=163.0), HTML(value='')))"
            ]
          },
          "metadata": {
            "tags": []
          }
        },
        {
          "output_type": "stream",
          "text": [
            "\n"
          ],
          "name": "stdout"
        },
        {
          "output_type": "display_data",
          "data": {
            "application/vnd.jupyter.widget-view+json": {
              "model_id": "e319cf3a248241f8aa74cca5a4f54a13",
              "version_major": 2,
              "version_minor": 0
            },
            "text/plain": [
              "HBox(children=(FloatProgress(value=0.0, max=20.0), HTML(value='')))"
            ]
          },
          "metadata": {
            "tags": []
          }
        },
        {
          "output_type": "stream",
          "text": [
            "\n",
            "train_loss 0.14035852942501473 val_loss 0.563861498539336 \n",
            "val accuracy_score 0.8253205128205128 \n",
            " \n",
            "+ ===== Epoch 5/30 ===== +\n"
          ],
          "name": "stdout"
        },
        {
          "output_type": "display_data",
          "data": {
            "application/vnd.jupyter.widget-view+json": {
              "model_id": "ebf620be859f48bbbfb05d3a7f0d1202",
              "version_major": 2,
              "version_minor": 0
            },
            "text/plain": [
              "HBox(children=(FloatProgress(value=0.0, max=163.0), HTML(value='')))"
            ]
          },
          "metadata": {
            "tags": []
          }
        },
        {
          "output_type": "stream",
          "text": [
            "\n"
          ],
          "name": "stdout"
        },
        {
          "output_type": "display_data",
          "data": {
            "application/vnd.jupyter.widget-view+json": {
              "model_id": "4db5a717712b482dbbcc4e0149372f9d",
              "version_major": 2,
              "version_minor": 0
            },
            "text/plain": [
              "HBox(children=(FloatProgress(value=0.0, max=20.0), HTML(value='')))"
            ]
          },
          "metadata": {
            "tags": []
          }
        },
        {
          "output_type": "stream",
          "text": [
            "\n",
            "train_loss 0.1167056391392749 val_loss 0.6100306114880368 \n",
            "val accuracy_score 0.8108974358974359 \n",
            " \n",
            "+ ===== Epoch 6/30 ===== +\n"
          ],
          "name": "stdout"
        },
        {
          "output_type": "display_data",
          "data": {
            "application/vnd.jupyter.widget-view+json": {
              "model_id": "ff237bee2e1b4592af622b56f4ff60c0",
              "version_major": 2,
              "version_minor": 0
            },
            "text/plain": [
              "HBox(children=(FloatProgress(value=0.0, max=163.0), HTML(value='')))"
            ]
          },
          "metadata": {
            "tags": []
          }
        },
        {
          "output_type": "stream",
          "text": [
            "\n"
          ],
          "name": "stdout"
        },
        {
          "output_type": "display_data",
          "data": {
            "application/vnd.jupyter.widget-view+json": {
              "model_id": "a0f1dc97b89445f484a06dee572d96a9",
              "version_major": 2,
              "version_minor": 0
            },
            "text/plain": [
              "HBox(children=(FloatProgress(value=0.0, max=20.0), HTML(value='')))"
            ]
          },
          "metadata": {
            "tags": []
          }
        },
        {
          "output_type": "stream",
          "text": [
            "\n",
            "train_loss 0.09496130302914081 val_loss 0.6083718031761237 \n",
            "val accuracy_score 0.8189102564102564 \n",
            " \n",
            "+ ===== Epoch 7/30 ===== +\n"
          ],
          "name": "stdout"
        },
        {
          "output_type": "display_data",
          "data": {
            "application/vnd.jupyter.widget-view+json": {
              "model_id": "f12ce75c4fd049f29d9079022b1a936a",
              "version_major": 2,
              "version_minor": 0
            },
            "text/plain": [
              "HBox(children=(FloatProgress(value=0.0, max=163.0), HTML(value='')))"
            ]
          },
          "metadata": {
            "tags": []
          }
        },
        {
          "output_type": "stream",
          "text": [
            "\n"
          ],
          "name": "stdout"
        },
        {
          "output_type": "display_data",
          "data": {
            "application/vnd.jupyter.widget-view+json": {
              "model_id": "7d00aa8ba5c4484ea203e984ffa71f52",
              "version_major": 2,
              "version_minor": 0
            },
            "text/plain": [
              "HBox(children=(FloatProgress(value=0.0, max=20.0), HTML(value='')))"
            ]
          },
          "metadata": {
            "tags": []
          }
        },
        {
          "output_type": "stream",
          "text": [
            "\n",
            "train_loss 0.08550663144424833 val_loss 0.6195417784503662 \n",
            "val accuracy_score 0.8125 \n",
            " \n",
            "+ ===== Epoch 8/30 ===== +\n"
          ],
          "name": "stdout"
        },
        {
          "output_type": "display_data",
          "data": {
            "application/vnd.jupyter.widget-view+json": {
              "model_id": "4feaec7a5f8943ae81c8aa0c035a76c6",
              "version_major": 2,
              "version_minor": 0
            },
            "text/plain": [
              "HBox(children=(FloatProgress(value=0.0, max=163.0), HTML(value='')))"
            ]
          },
          "metadata": {
            "tags": []
          }
        },
        {
          "output_type": "stream",
          "text": [
            "\n"
          ],
          "name": "stdout"
        },
        {
          "output_type": "display_data",
          "data": {
            "application/vnd.jupyter.widget-view+json": {
              "model_id": "d2855baaa66c4dd18035514fc462484c",
              "version_major": 2,
              "version_minor": 0
            },
            "text/plain": [
              "HBox(children=(FloatProgress(value=0.0, max=20.0), HTML(value='')))"
            ]
          },
          "metadata": {
            "tags": []
          }
        },
        {
          "output_type": "stream",
          "text": [
            "\n",
            "train_loss 0.08143165533893683 val_loss 0.5801811606390401 \n",
            "val accuracy_score 0.8237179487179487 \n",
            " \n",
            "+ ===== Epoch 9/30 ===== +\n"
          ],
          "name": "stdout"
        },
        {
          "output_type": "display_data",
          "data": {
            "application/vnd.jupyter.widget-view+json": {
              "model_id": "d0435ad3518245a7b67f817102604cb3",
              "version_major": 2,
              "version_minor": 0
            },
            "text/plain": [
              "HBox(children=(FloatProgress(value=0.0, max=163.0), HTML(value='')))"
            ]
          },
          "metadata": {
            "tags": []
          }
        },
        {
          "output_type": "stream",
          "text": [
            "\n"
          ],
          "name": "stdout"
        },
        {
          "output_type": "display_data",
          "data": {
            "application/vnd.jupyter.widget-view+json": {
              "model_id": "2922ed221e884d90a5e63e73593dd38b",
              "version_major": 2,
              "version_minor": 0
            },
            "text/plain": [
              "HBox(children=(FloatProgress(value=0.0, max=20.0), HTML(value='')))"
            ]
          },
          "metadata": {
            "tags": []
          }
        },
        {
          "output_type": "stream",
          "text": [
            "\n",
            "train_loss 0.07390026275091378 val_loss 0.5385564258904195 \n",
            "val accuracy_score 0.8413461538461539 \n",
            " \n",
            "+ ===== Epoch 10/30 ===== +\n"
          ],
          "name": "stdout"
        },
        {
          "output_type": "display_data",
          "data": {
            "application/vnd.jupyter.widget-view+json": {
              "model_id": "5c72ced8feaa42d9af79f283f475cd1f",
              "version_major": 2,
              "version_minor": 0
            },
            "text/plain": [
              "HBox(children=(FloatProgress(value=0.0, max=163.0), HTML(value='')))"
            ]
          },
          "metadata": {
            "tags": []
          }
        },
        {
          "output_type": "stream",
          "text": [
            "\n"
          ],
          "name": "stdout"
        },
        {
          "output_type": "display_data",
          "data": {
            "application/vnd.jupyter.widget-view+json": {
              "model_id": "1b7d3cb2b0524fb7ba017776af9e2ea3",
              "version_major": 2,
              "version_minor": 0
            },
            "text/plain": [
              "HBox(children=(FloatProgress(value=0.0, max=20.0), HTML(value='')))"
            ]
          },
          "metadata": {
            "tags": []
          }
        },
        {
          "output_type": "stream",
          "text": [
            "\n",
            "train_loss 0.06780300799620112 val_loss 0.6376335435605142 \n",
            "val accuracy_score 0.8189102564102564 \n",
            " \n",
            "+ ===== Epoch 11/30 ===== +\n"
          ],
          "name": "stdout"
        },
        {
          "output_type": "display_data",
          "data": {
            "application/vnd.jupyter.widget-view+json": {
              "model_id": "55622e2d7cea402ea2a468fdc6a2a9b5",
              "version_major": 2,
              "version_minor": 0
            },
            "text/plain": [
              "HBox(children=(FloatProgress(value=0.0, max=163.0), HTML(value='')))"
            ]
          },
          "metadata": {
            "tags": []
          }
        },
        {
          "output_type": "stream",
          "text": [
            "\n"
          ],
          "name": "stdout"
        },
        {
          "output_type": "display_data",
          "data": {
            "application/vnd.jupyter.widget-view+json": {
              "model_id": "e362946d03b142c89cce57632b060c41",
              "version_major": 2,
              "version_minor": 0
            },
            "text/plain": [
              "HBox(children=(FloatProgress(value=0.0, max=20.0), HTML(value='')))"
            ]
          },
          "metadata": {
            "tags": []
          }
        },
        {
          "output_type": "stream",
          "text": [
            "\n",
            "train_loss 0.06618326105623067 val_loss 0.6906296622852097 \n",
            "val accuracy_score 0.8108974358974359 \n",
            " \n",
            "+ ===== Epoch 12/30 ===== +\n"
          ],
          "name": "stdout"
        },
        {
          "output_type": "display_data",
          "data": {
            "application/vnd.jupyter.widget-view+json": {
              "model_id": "143d4024e8d94df599573290ad7687bf",
              "version_major": 2,
              "version_minor": 0
            },
            "text/plain": [
              "HBox(children=(FloatProgress(value=0.0, max=163.0), HTML(value='')))"
            ]
          },
          "metadata": {
            "tags": []
          }
        },
        {
          "output_type": "stream",
          "text": [
            "\n"
          ],
          "name": "stdout"
        },
        {
          "output_type": "display_data",
          "data": {
            "application/vnd.jupyter.widget-view+json": {
              "model_id": "835dcec9915f4e0c8b8941fe97e40a68",
              "version_major": 2,
              "version_minor": 0
            },
            "text/plain": [
              "HBox(children=(FloatProgress(value=0.0, max=20.0), HTML(value='')))"
            ]
          },
          "metadata": {
            "tags": []
          }
        },
        {
          "output_type": "stream",
          "text": [
            "\n",
            "train_loss 0.06028239079608234 val_loss 0.5408856855647172 \n",
            "val accuracy_score 0.8413461538461539 \n",
            " \n",
            "+ ===== Epoch 13/30 ===== +\n"
          ],
          "name": "stdout"
        },
        {
          "output_type": "display_data",
          "data": {
            "application/vnd.jupyter.widget-view+json": {
              "model_id": "75045da3bd6b4a54a294da1d5e7cdea8",
              "version_major": 2,
              "version_minor": 0
            },
            "text/plain": [
              "HBox(children=(FloatProgress(value=0.0, max=163.0), HTML(value='')))"
            ]
          },
          "metadata": {
            "tags": []
          }
        },
        {
          "output_type": "stream",
          "text": [
            "\n"
          ],
          "name": "stdout"
        },
        {
          "output_type": "display_data",
          "data": {
            "application/vnd.jupyter.widget-view+json": {
              "model_id": "6db8560902cc45f6826905c52c9d05d2",
              "version_major": 2,
              "version_minor": 0
            },
            "text/plain": [
              "HBox(children=(FloatProgress(value=0.0, max=20.0), HTML(value='')))"
            ]
          },
          "metadata": {
            "tags": []
          }
        },
        {
          "output_type": "stream",
          "text": [
            "\n",
            "train_loss 0.06367646567123526 val_loss 0.7370089248142904 \n",
            "val accuracy_score 0.8173076923076923 \n",
            " \n",
            "+ ===== Epoch 14/30 ===== +\n"
          ],
          "name": "stdout"
        },
        {
          "output_type": "display_data",
          "data": {
            "application/vnd.jupyter.widget-view+json": {
              "model_id": "42cdb5f9d39a42da9fbf30e62faa5fe2",
              "version_major": 2,
              "version_minor": 0
            },
            "text/plain": [
              "HBox(children=(FloatProgress(value=0.0, max=163.0), HTML(value='')))"
            ]
          },
          "metadata": {
            "tags": []
          }
        },
        {
          "output_type": "stream",
          "text": [
            "\n"
          ],
          "name": "stdout"
        },
        {
          "output_type": "display_data",
          "data": {
            "application/vnd.jupyter.widget-view+json": {
              "model_id": "852b710529814dd0b81fe858caa5491a",
              "version_major": 2,
              "version_minor": 0
            },
            "text/plain": [
              "HBox(children=(FloatProgress(value=0.0, max=20.0), HTML(value='')))"
            ]
          },
          "metadata": {
            "tags": []
          }
        },
        {
          "output_type": "stream",
          "text": [
            "\n",
            "train_loss 0.05580680016599639 val_loss 0.686850395379588 \n",
            "val accuracy_score 0.8189102564102564 \n",
            " \n",
            "+ ===== Epoch 15/30 ===== +\n"
          ],
          "name": "stdout"
        },
        {
          "output_type": "display_data",
          "data": {
            "application/vnd.jupyter.widget-view+json": {
              "model_id": "2437c47316364be692d056a7c9929903",
              "version_major": 2,
              "version_minor": 0
            },
            "text/plain": [
              "HBox(children=(FloatProgress(value=0.0, max=163.0), HTML(value='')))"
            ]
          },
          "metadata": {
            "tags": []
          }
        },
        {
          "output_type": "stream",
          "text": [
            "\n"
          ],
          "name": "stdout"
        },
        {
          "output_type": "display_data",
          "data": {
            "application/vnd.jupyter.widget-view+json": {
              "model_id": "da0b2f95c91149adb30e42860e4ed194",
              "version_major": 2,
              "version_minor": 0
            },
            "text/plain": [
              "HBox(children=(FloatProgress(value=0.0, max=20.0), HTML(value='')))"
            ]
          },
          "metadata": {
            "tags": []
          }
        },
        {
          "output_type": "stream",
          "text": [
            "\n",
            "train_loss 0.05176930207947693 val_loss 0.5785449397691991 \n",
            "val accuracy_score 0.8413461538461539 \n",
            " \n",
            "+ ===== Epoch 16/30 ===== +\n"
          ],
          "name": "stdout"
        },
        {
          "output_type": "display_data",
          "data": {
            "application/vnd.jupyter.widget-view+json": {
              "model_id": "013c657d2a3e4a48a5cf70ad4693706c",
              "version_major": 2,
              "version_minor": 0
            },
            "text/plain": [
              "HBox(children=(FloatProgress(value=0.0, max=163.0), HTML(value='')))"
            ]
          },
          "metadata": {
            "tags": []
          }
        },
        {
          "output_type": "stream",
          "text": [
            "\n"
          ],
          "name": "stdout"
        },
        {
          "output_type": "display_data",
          "data": {
            "application/vnd.jupyter.widget-view+json": {
              "model_id": "8fead3de52d84159a05f9ad76160c1c5",
              "version_major": 2,
              "version_minor": 0
            },
            "text/plain": [
              "HBox(children=(FloatProgress(value=0.0, max=20.0), HTML(value='')))"
            ]
          },
          "metadata": {
            "tags": []
          }
        },
        {
          "output_type": "stream",
          "text": [
            "\n",
            "train_loss 0.051635362129327074 val_loss 0.8085516896942864 \n",
            "val accuracy_score 0.8076923076923077 \n",
            " \n",
            "+ ===== Epoch 17/30 ===== +\n"
          ],
          "name": "stdout"
        },
        {
          "output_type": "display_data",
          "data": {
            "application/vnd.jupyter.widget-view+json": {
              "model_id": "449681f862ae4434b444c91ad1ec7b79",
              "version_major": 2,
              "version_minor": 0
            },
            "text/plain": [
              "HBox(children=(FloatProgress(value=0.0, max=163.0), HTML(value='')))"
            ]
          },
          "metadata": {
            "tags": []
          }
        },
        {
          "output_type": "stream",
          "text": [
            "\n"
          ],
          "name": "stdout"
        },
        {
          "output_type": "display_data",
          "data": {
            "application/vnd.jupyter.widget-view+json": {
              "model_id": "6d77dc44f1444cc4825222e9eb27d54d",
              "version_major": 2,
              "version_minor": 0
            },
            "text/plain": [
              "HBox(children=(FloatProgress(value=0.0, max=20.0), HTML(value='')))"
            ]
          },
          "metadata": {
            "tags": []
          }
        },
        {
          "output_type": "stream",
          "text": [
            "\n",
            "train_loss 0.05436099278940561 val_loss 0.6978585362579907 \n",
            "val accuracy_score 0.8269230769230769 \n",
            " \n",
            "+ ===== Epoch 18/30 ===== +\n"
          ],
          "name": "stdout"
        },
        {
          "output_type": "display_data",
          "data": {
            "application/vnd.jupyter.widget-view+json": {
              "model_id": "f5f21316af7b4530b72980fd9af5bc76",
              "version_major": 2,
              "version_minor": 0
            },
            "text/plain": [
              "HBox(children=(FloatProgress(value=0.0, max=163.0), HTML(value='')))"
            ]
          },
          "metadata": {
            "tags": []
          }
        },
        {
          "output_type": "stream",
          "text": [
            "\n"
          ],
          "name": "stdout"
        },
        {
          "output_type": "display_data",
          "data": {
            "application/vnd.jupyter.widget-view+json": {
              "model_id": "7f7412fe572b4e99a7b66f4650bdd6a8",
              "version_major": 2,
              "version_minor": 0
            },
            "text/plain": [
              "HBox(children=(FloatProgress(value=0.0, max=20.0), HTML(value='')))"
            ]
          },
          "metadata": {
            "tags": []
          }
        },
        {
          "output_type": "stream",
          "text": [
            "\n",
            "train_loss 0.04875912012080978 val_loss 0.5858038174454122 \n",
            "val accuracy_score 0.8413461538461539 \n",
            " \n",
            "+ ===== Epoch 19/30 ===== +\n"
          ],
          "name": "stdout"
        },
        {
          "output_type": "display_data",
          "data": {
            "application/vnd.jupyter.widget-view+json": {
              "model_id": "874a892425ad4a6cbb85047a824017d1",
              "version_major": 2,
              "version_minor": 0
            },
            "text/plain": [
              "HBox(children=(FloatProgress(value=0.0, max=163.0), HTML(value='')))"
            ]
          },
          "metadata": {
            "tags": []
          }
        },
        {
          "output_type": "stream",
          "text": [
            "\n"
          ],
          "name": "stdout"
        },
        {
          "output_type": "display_data",
          "data": {
            "application/vnd.jupyter.widget-view+json": {
              "model_id": "949f00ff05174265ad19f79ac06beb91",
              "version_major": 2,
              "version_minor": 0
            },
            "text/plain": [
              "HBox(children=(FloatProgress(value=0.0, max=20.0), HTML(value='')))"
            ]
          },
          "metadata": {
            "tags": []
          }
        },
        {
          "output_type": "stream",
          "text": [
            "\n",
            "train_loss 0.05237455331531866 val_loss 0.6408585846453206 \n",
            "val accuracy_score 0.8333333333333334 \n",
            " \n",
            "+ ===== Epoch 20/30 ===== +\n"
          ],
          "name": "stdout"
        },
        {
          "output_type": "display_data",
          "data": {
            "application/vnd.jupyter.widget-view+json": {
              "model_id": "0d5d0caf577c4e37a56b8b8897df951e",
              "version_major": 2,
              "version_minor": 0
            },
            "text/plain": [
              "HBox(children=(FloatProgress(value=0.0, max=163.0), HTML(value='')))"
            ]
          },
          "metadata": {
            "tags": []
          }
        },
        {
          "output_type": "stream",
          "text": [
            "\n"
          ],
          "name": "stdout"
        },
        {
          "output_type": "display_data",
          "data": {
            "application/vnd.jupyter.widget-view+json": {
              "model_id": "3572ebec1c2e4ad1b23386797399456a",
              "version_major": 2,
              "version_minor": 0
            },
            "text/plain": [
              "HBox(children=(FloatProgress(value=0.0, max=20.0), HTML(value='')))"
            ]
          },
          "metadata": {
            "tags": []
          }
        },
        {
          "output_type": "stream",
          "text": [
            "\n",
            "train_loss 0.042187035288033206 val_loss 0.5877949920424727 \n",
            "val accuracy_score 0.8461538461538461 \n",
            " \n",
            "+ ===== Epoch 21/30 ===== +\n"
          ],
          "name": "stdout"
        },
        {
          "output_type": "display_data",
          "data": {
            "application/vnd.jupyter.widget-view+json": {
              "model_id": "e55caead58774eefb1299c4f5fd634ba",
              "version_major": 2,
              "version_minor": 0
            },
            "text/plain": [
              "HBox(children=(FloatProgress(value=0.0, max=163.0), HTML(value='')))"
            ]
          },
          "metadata": {
            "tags": []
          }
        },
        {
          "output_type": "stream",
          "text": [
            "\n"
          ],
          "name": "stdout"
        },
        {
          "output_type": "display_data",
          "data": {
            "application/vnd.jupyter.widget-view+json": {
              "model_id": "1556a2be236e4af68891d707e56f5203",
              "version_major": 2,
              "version_minor": 0
            },
            "text/plain": [
              "HBox(children=(FloatProgress(value=0.0, max=20.0), HTML(value='')))"
            ]
          },
          "metadata": {
            "tags": []
          }
        },
        {
          "output_type": "stream",
          "text": [
            "\n",
            "train_loss 0.05076581625085027 val_loss 0.573681224961183 \n",
            "val accuracy_score 0.8493589743589743 \n",
            " \n",
            "+ ===== Epoch 22/30 ===== +\n"
          ],
          "name": "stdout"
        },
        {
          "output_type": "display_data",
          "data": {
            "application/vnd.jupyter.widget-view+json": {
              "model_id": "a14a415b69a94586b2bbd9dafc1164e3",
              "version_major": 2,
              "version_minor": 0
            },
            "text/plain": [
              "HBox(children=(FloatProgress(value=0.0, max=163.0), HTML(value='')))"
            ]
          },
          "metadata": {
            "tags": []
          }
        },
        {
          "output_type": "stream",
          "text": [
            "\n"
          ],
          "name": "stdout"
        },
        {
          "output_type": "display_data",
          "data": {
            "application/vnd.jupyter.widget-view+json": {
              "model_id": "2c1610b4399449759d4be8a976917cd5",
              "version_major": 2,
              "version_minor": 0
            },
            "text/plain": [
              "HBox(children=(FloatProgress(value=0.0, max=20.0), HTML(value='')))"
            ]
          },
          "metadata": {
            "tags": []
          }
        },
        {
          "output_type": "stream",
          "text": [
            "\n",
            "train_loss 0.04210535104906448 val_loss 0.7045532629796071 \n",
            "val accuracy_score 0.8301282051282052 \n",
            " \n",
            "+ ===== Epoch 23/30 ===== +\n"
          ],
          "name": "stdout"
        },
        {
          "output_type": "display_data",
          "data": {
            "application/vnd.jupyter.widget-view+json": {
              "model_id": "7b8816d659be4f47930ebdbf8b5ebde4",
              "version_major": 2,
              "version_minor": 0
            },
            "text/plain": [
              "HBox(children=(FloatProgress(value=0.0, max=163.0), HTML(value='')))"
            ]
          },
          "metadata": {
            "tags": []
          }
        },
        {
          "output_type": "stream",
          "text": [
            "\n"
          ],
          "name": "stdout"
        },
        {
          "output_type": "display_data",
          "data": {
            "application/vnd.jupyter.widget-view+json": {
              "model_id": "9995fdaf559444c184d0aece7d6bd189",
              "version_major": 2,
              "version_minor": 0
            },
            "text/plain": [
              "HBox(children=(FloatProgress(value=0.0, max=20.0), HTML(value='')))"
            ]
          },
          "metadata": {
            "tags": []
          }
        },
        {
          "output_type": "stream",
          "text": [
            "\n",
            "train_loss 0.03673768883208214 val_loss 0.8451621029453236 \n",
            "val accuracy_score 0.8108974358974359 \n",
            " \n",
            "+ ===== Epoch 24/30 ===== +\n"
          ],
          "name": "stdout"
        },
        {
          "output_type": "display_data",
          "data": {
            "application/vnd.jupyter.widget-view+json": {
              "model_id": "d19a7ef94d9a407c8ccf1435d4f51e42",
              "version_major": 2,
              "version_minor": 0
            },
            "text/plain": [
              "HBox(children=(FloatProgress(value=0.0, max=163.0), HTML(value='')))"
            ]
          },
          "metadata": {
            "tags": []
          }
        },
        {
          "output_type": "stream",
          "text": [
            "\n"
          ],
          "name": "stdout"
        },
        {
          "output_type": "display_data",
          "data": {
            "application/vnd.jupyter.widget-view+json": {
              "model_id": "08daa25e8da847d49691d36fd2cc7610",
              "version_major": 2,
              "version_minor": 0
            },
            "text/plain": [
              "HBox(children=(FloatProgress(value=0.0, max=20.0), HTML(value='')))"
            ]
          },
          "metadata": {
            "tags": []
          }
        },
        {
          "output_type": "stream",
          "text": [
            "\n",
            "train_loss 0.039531350174727344 val_loss 0.7067622697170008 \n",
            "val accuracy_score 0.8285256410256411 \n",
            " \n",
            "+ ===== Epoch 25/30 ===== +\n"
          ],
          "name": "stdout"
        },
        {
          "output_type": "display_data",
          "data": {
            "application/vnd.jupyter.widget-view+json": {
              "model_id": "b4ff5a9c9a9947088cb086672902596b",
              "version_major": 2,
              "version_minor": 0
            },
            "text/plain": [
              "HBox(children=(FloatProgress(value=0.0, max=163.0), HTML(value='')))"
            ]
          },
          "metadata": {
            "tags": []
          }
        },
        {
          "output_type": "stream",
          "text": [
            "\n"
          ],
          "name": "stdout"
        },
        {
          "output_type": "display_data",
          "data": {
            "application/vnd.jupyter.widget-view+json": {
              "model_id": "ad65d46530854083a89e4b9be357183f",
              "version_major": 2,
              "version_minor": 0
            },
            "text/plain": [
              "HBox(children=(FloatProgress(value=0.0, max=20.0), HTML(value='')))"
            ]
          },
          "metadata": {
            "tags": []
          }
        },
        {
          "output_type": "stream",
          "text": [
            "\n",
            "train_loss 0.039786249597734004 val_loss 0.8500765514108934 \n",
            "val accuracy_score 0.8076923076923077 \n",
            " \n",
            "+ ===== Epoch 26/30 ===== +\n"
          ],
          "name": "stdout"
        },
        {
          "output_type": "display_data",
          "data": {
            "application/vnd.jupyter.widget-view+json": {
              "model_id": "973cab80433a4a97a19667ca5297e2b7",
              "version_major": 2,
              "version_minor": 0
            },
            "text/plain": [
              "HBox(children=(FloatProgress(value=0.0, max=163.0), HTML(value='')))"
            ]
          },
          "metadata": {
            "tags": []
          }
        },
        {
          "output_type": "stream",
          "text": [
            "\n"
          ],
          "name": "stdout"
        },
        {
          "output_type": "display_data",
          "data": {
            "application/vnd.jupyter.widget-view+json": {
              "model_id": "5cb88fe52f454a9b959dc7d73c735f53",
              "version_major": 2,
              "version_minor": 0
            },
            "text/plain": [
              "HBox(children=(FloatProgress(value=0.0, max=20.0), HTML(value='')))"
            ]
          },
          "metadata": {
            "tags": []
          }
        },
        {
          "output_type": "stream",
          "text": [
            "\n",
            "train_loss 0.03865060113024743 val_loss 0.7563808261606028 \n",
            "val accuracy_score 0.8253205128205128 \n",
            " \n",
            "+ ===== Epoch 27/30 ===== +\n"
          ],
          "name": "stdout"
        },
        {
          "output_type": "display_data",
          "data": {
            "application/vnd.jupyter.widget-view+json": {
              "model_id": "45503707148449a4b3c185306198ad66",
              "version_major": 2,
              "version_minor": 0
            },
            "text/plain": [
              "HBox(children=(FloatProgress(value=0.0, max=163.0), HTML(value='')))"
            ]
          },
          "metadata": {
            "tags": []
          }
        },
        {
          "output_type": "stream",
          "text": [
            "\n"
          ],
          "name": "stdout"
        },
        {
          "output_type": "display_data",
          "data": {
            "application/vnd.jupyter.widget-view+json": {
              "model_id": "af03c653a9a14f7694f3fb2d5c9da926",
              "version_major": 2,
              "version_minor": 0
            },
            "text/plain": [
              "HBox(children=(FloatProgress(value=0.0, max=20.0), HTML(value='')))"
            ]
          },
          "metadata": {
            "tags": []
          }
        },
        {
          "output_type": "stream",
          "text": [
            "\n",
            "train_loss 0.037979561501279735 val_loss 0.7984897986018041 \n",
            "val accuracy_score 0.8141025641025641 \n",
            " \n",
            "+ ===== Epoch 28/30 ===== +\n"
          ],
          "name": "stdout"
        },
        {
          "output_type": "display_data",
          "data": {
            "application/vnd.jupyter.widget-view+json": {
              "model_id": "a49832a1b009405b81bafc3411c72162",
              "version_major": 2,
              "version_minor": 0
            },
            "text/plain": [
              "HBox(children=(FloatProgress(value=0.0, max=163.0), HTML(value='')))"
            ]
          },
          "metadata": {
            "tags": []
          }
        },
        {
          "output_type": "stream",
          "text": [
            "\n"
          ],
          "name": "stdout"
        },
        {
          "output_type": "display_data",
          "data": {
            "application/vnd.jupyter.widget-view+json": {
              "model_id": "6c3dfda74bd5493baee6c182282c1f6d",
              "version_major": 2,
              "version_minor": 0
            },
            "text/plain": [
              "HBox(children=(FloatProgress(value=0.0, max=20.0), HTML(value='')))"
            ]
          },
          "metadata": {
            "tags": []
          }
        },
        {
          "output_type": "stream",
          "text": [
            "\n",
            "train_loss 0.03896314850965502 val_loss 0.8736202424108342 \n",
            "val accuracy_score 0.8125 \n",
            " \n",
            "+ ===== Epoch 29/30 ===== +\n"
          ],
          "name": "stdout"
        },
        {
          "output_type": "display_data",
          "data": {
            "application/vnd.jupyter.widget-view+json": {
              "model_id": "4e69a459ed4d47dd81e3719172775927",
              "version_major": 2,
              "version_minor": 0
            },
            "text/plain": [
              "HBox(children=(FloatProgress(value=0.0, max=163.0), HTML(value='')))"
            ]
          },
          "metadata": {
            "tags": []
          }
        },
        {
          "output_type": "stream",
          "text": [
            "\n"
          ],
          "name": "stdout"
        },
        {
          "output_type": "display_data",
          "data": {
            "application/vnd.jupyter.widget-view+json": {
              "model_id": "b55dc12d9476460fb9bce249fce877af",
              "version_major": 2,
              "version_minor": 0
            },
            "text/plain": [
              "HBox(children=(FloatProgress(value=0.0, max=20.0), HTML(value='')))"
            ]
          },
          "metadata": {
            "tags": []
          }
        },
        {
          "output_type": "stream",
          "text": [
            "\n",
            "train_loss 0.04567175929111777 val_loss 0.8325038460323413 \n",
            "val accuracy_score 0.8141025641025641 \n",
            " \n",
            "+ ===== Epoch 30/30 ===== +\n"
          ],
          "name": "stdout"
        },
        {
          "output_type": "display_data",
          "data": {
            "application/vnd.jupyter.widget-view+json": {
              "model_id": "62a2ff11ddff4fc5b89661a2f3fdb1b1",
              "version_major": 2,
              "version_minor": 0
            },
            "text/plain": [
              "HBox(children=(FloatProgress(value=0.0, max=163.0), HTML(value='')))"
            ]
          },
          "metadata": {
            "tags": []
          }
        },
        {
          "output_type": "stream",
          "text": [
            "\n"
          ],
          "name": "stdout"
        },
        {
          "output_type": "display_data",
          "data": {
            "application/vnd.jupyter.widget-view+json": {
              "model_id": "87ffc0ed3d0145a2aadb4b6a16f4eecf",
              "version_major": 2,
              "version_minor": 0
            },
            "text/plain": [
              "HBox(children=(FloatProgress(value=0.0, max=20.0), HTML(value='')))"
            ]
          },
          "metadata": {
            "tags": []
          }
        },
        {
          "output_type": "stream",
          "text": [
            "\n",
            "train_loss 0.03735215076319645 val_loss 0.746669452614151 \n",
            "val accuracy_score 0.8253205128205128 \n",
            " \n"
          ],
          "name": "stdout"
        }
      ]
    },
    {
      "cell_type": "code",
      "metadata": {
        "papermill": {
          "duration": 0.064999,
          "end_time": "2020-12-26T12:05:16.670803",
          "exception": false,
          "start_time": "2020-12-26T12:05:16.605804",
          "status": "completed"
        },
        "tags": [],
        "id": "5sMB-IaX0N3Y"
      },
      "source": [
        ""
      ],
      "execution_count": null,
      "outputs": []
    }
  ]
}